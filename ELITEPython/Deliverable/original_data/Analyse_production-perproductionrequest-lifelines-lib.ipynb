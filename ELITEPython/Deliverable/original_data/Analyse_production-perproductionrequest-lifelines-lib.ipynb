{
 "cells": [
  {
   "cell_type": "code",
   "execution_count": 1,
   "metadata": {},
   "outputs": [],
   "source": [
    "# Joachim DAVID december 2018\n",
    "# Ghent University\n",
    "# Zwijnaarde Industriepark 15\n",
    "# 9000 Gent\n",
    "# Joachim.David@UGent.be\n",
    "#############################\n",
    "\n",
    "# REFERENCES:\n",
    "# http://reliawiki.org/index.php/The_Exponential_Distribution\n",
    "# http://reliawiki.org/index.php/The_Weibull_Distribution\n",
    "# @book{verma2010reliability,\n",
    "#   title={Reliability and safety engineering},\n",
    "#   author={Verma, Ajit Kumar and Ajit, Srividya and Karanki, Durga Rao},\n",
    "#   volume={43},\n",
    "#   chapter={2}\n",
    "#   year={2010},\n",
    "#   publisher={Springer}\n",
    "# }\n",
    "import pandas as pd\n",
    "import numpy as np\n",
    "import matplotlib.pyplot as plt\n",
    "pd.set_option('display.max_columns', None)\n",
    "import sys\n",
    "sys.path.append('..')\n",
    "\n",
    "%load_ext autoreload\n",
    "%autoreload 2\n",
    "\n",
    "#import matplotlib\n",
    "#matplotlib.matplotlib_fname()"
   ]
  },
  {
   "cell_type": "code",
   "execution_count": 2,
   "metadata": {},
   "outputs": [
    {
     "name": "stdout",
     "output_type": "stream",
     "text": [
      "[0, 1, 2, 3, 5, 7, 8, 9, 10, 11]\n"
     ]
    }
   ],
   "source": [
    "filename = 'productionfile.csv' # 'packagingfile.csv'\n",
    "df = pd.read_csv(filename, parse_dates=['StartDateUTC', 'EndDateUTC'])\n",
    "df = df.sort_values('StartDateUTC')\n",
    "list_reasons = list(df.ReasonId.unique())\n",
    "list_reasons.sort()\n",
    "print(list_reasons)"
   ]
  },
  {
   "cell_type": "code",
   "execution_count": 5,
   "metadata": {},
   "outputs": [],
   "source": [
    "# VARIABLES\n",
    "cutoff_perc = 100\n",
    "dtcutoff_perc = 100\n",
    "reasons_considered = reasons_relative = [7, 8]\n",
    "reasons_to_ignore = [0, 1, 2, 3, 5, 9, 10, 11]\n",
    "reasons_to_break = []\n",
    "sorted_reasons = reasons_considered + reasons_to_ignore + reasons_to_break\n",
    "assert(set(list_reasons) == set(sorted_reasons))"
   ]
  },
  {
   "cell_type": "code",
   "execution_count": 4,
   "metadata": {},
   "outputs": [
    {
     "data": {
      "text/html": [
       "<div>\n",
       "<style scoped>\n",
       "    .dataframe tbody tr th:only-of-type {\n",
       "        vertical-align: middle;\n",
       "    }\n",
       "\n",
       "    .dataframe tbody tr th {\n",
       "        vertical-align: top;\n",
       "    }\n",
       "\n",
       "    .dataframe thead th {\n",
       "        text-align: right;\n",
       "    }\n",
       "</style>\n",
       "<table border=\"1\" class=\"dataframe\">\n",
       "  <thead>\n",
       "    <tr style=\"text-align: right;\">\n",
       "      <th></th>\n",
       "      <th>EquipmentId</th>\n",
       "      <th>ProductionRequestId</th>\n",
       "      <th>SegmentResponseId</th>\n",
       "      <th>StartDateUTC</th>\n",
       "      <th>EndDateUTC</th>\n",
       "      <th>Duration</th>\n",
       "      <th>ReasonId</th>\n",
       "      <th>IgnoreType</th>\n",
       "      <th>ArticleCode</th>\n",
       "      <th>ArticleName</th>\n",
       "      <th>Type</th>\n",
       "      <th>Quantity</th>\n",
       "    </tr>\n",
       "  </thead>\n",
       "  <tbody>\n",
       "    <tr>\n",
       "      <th>0</th>\n",
       "      <td>50</td>\n",
       "      <td>50675.0</td>\n",
       "      <td>74525.0</td>\n",
       "      <td>2016-01-19 14:21:47.980</td>\n",
       "      <td>2016-01-19 14:22:51.830</td>\n",
       "      <td>64.000</td>\n",
       "      <td>10</td>\n",
       "      <td>0</td>\n",
       "      <td>FF029001</td>\n",
       "      <td>MACARONI KORT PLATTE ZAK</td>\n",
       "      <td>DownTime</td>\n",
       "      <td>30000</td>\n",
       "    </tr>\n",
       "    <tr>\n",
       "      <th>1</th>\n",
       "      <td>50</td>\n",
       "      <td>50675.0</td>\n",
       "      <td>74525.0</td>\n",
       "      <td>2016-01-19 14:22:51.830</td>\n",
       "      <td>2016-01-19 17:23:51.660</td>\n",
       "      <td>10860.000</td>\n",
       "      <td>1</td>\n",
       "      <td>0</td>\n",
       "      <td>FF029001</td>\n",
       "      <td>MACARONI KORT PLATTE ZAK</td>\n",
       "      <td>RunTime</td>\n",
       "      <td>30000</td>\n",
       "    </tr>\n",
       "    <tr>\n",
       "      <th>2</th>\n",
       "      <td>50</td>\n",
       "      <td>50675.0</td>\n",
       "      <td>74525.0</td>\n",
       "      <td>2016-01-19 17:23:51.660</td>\n",
       "      <td>2016-01-19 17:30:45.690</td>\n",
       "      <td>414.000</td>\n",
       "      <td>8</td>\n",
       "      <td>0</td>\n",
       "      <td>FF029001</td>\n",
       "      <td>MACARONI KORT PLATTE ZAK</td>\n",
       "      <td>DownTime</td>\n",
       "      <td>30000</td>\n",
       "    </tr>\n",
       "    <tr>\n",
       "      <th>3</th>\n",
       "      <td>50</td>\n",
       "      <td>50675.0</td>\n",
       "      <td>74525.0</td>\n",
       "      <td>2016-01-19 17:30:45.690</td>\n",
       "      <td>2016-01-19 19:41:56.830</td>\n",
       "      <td>7871.000</td>\n",
       "      <td>1</td>\n",
       "      <td>0</td>\n",
       "      <td>FF029001</td>\n",
       "      <td>MACARONI KORT PLATTE ZAK</td>\n",
       "      <td>RunTime</td>\n",
       "      <td>30000</td>\n",
       "    </tr>\n",
       "    <tr>\n",
       "      <th>4</th>\n",
       "      <td>50</td>\n",
       "      <td>50675.0</td>\n",
       "      <td>74525.0</td>\n",
       "      <td>2016-01-19 19:41:56.830</td>\n",
       "      <td>2016-01-19 19:44:53.073</td>\n",
       "      <td>177.000</td>\n",
       "      <td>10</td>\n",
       "      <td>0</td>\n",
       "      <td>FF029001</td>\n",
       "      <td>MACARONI KORT PLATTE ZAK</td>\n",
       "      <td>DownTime</td>\n",
       "      <td>30000</td>\n",
       "    </tr>\n",
       "    <tr>\n",
       "      <th>5</th>\n",
       "      <td>50</td>\n",
       "      <td>50675.0</td>\n",
       "      <td>74525.0</td>\n",
       "      <td>2016-01-19 19:44:53.073</td>\n",
       "      <td>2016-01-19 19:49:18.047</td>\n",
       "      <td>265.000</td>\n",
       "      <td>1</td>\n",
       "      <td>0</td>\n",
       "      <td>FF029001</td>\n",
       "      <td>MACARONI KORT PLATTE ZAK</td>\n",
       "      <td>RunTime</td>\n",
       "      <td>30000</td>\n",
       "    </tr>\n",
       "    <tr>\n",
       "      <th>6</th>\n",
       "      <td>0</td>\n",
       "      <td>0.0</td>\n",
       "      <td>0.0</td>\n",
       "      <td>2016-01-19 19:49:18.047</td>\n",
       "      <td>2016-01-21 09:56:44.780</td>\n",
       "      <td>137246.733</td>\n",
       "      <td>0</td>\n",
       "      <td>0</td>\n",
       "      <td>000000EU</td>\n",
       "      <td>NONE</td>\n",
       "      <td>Break</td>\n",
       "      <td>0</td>\n",
       "    </tr>\n",
       "    <tr>\n",
       "      <th>7</th>\n",
       "      <td>50</td>\n",
       "      <td>50724.0</td>\n",
       "      <td>74711.0</td>\n",
       "      <td>2016-01-21 09:56:44.780</td>\n",
       "      <td>2016-01-21 09:58:50.930</td>\n",
       "      <td>126.000</td>\n",
       "      <td>9</td>\n",
       "      <td>0</td>\n",
       "      <td>FF011501</td>\n",
       "      <td>GESNEDEN MACARONI AS 0,9%</td>\n",
       "      <td>DownTime</td>\n",
       "      <td>30000</td>\n",
       "    </tr>\n",
       "    <tr>\n",
       "      <th>8</th>\n",
       "      <td>50</td>\n",
       "      <td>50724.0</td>\n",
       "      <td>74711.0</td>\n",
       "      <td>2016-01-21 09:58:50.930</td>\n",
       "      <td>2016-01-21 10:51:08.090</td>\n",
       "      <td>3138.000</td>\n",
       "      <td>1</td>\n",
       "      <td>0</td>\n",
       "      <td>FF011501</td>\n",
       "      <td>GESNEDEN MACARONI AS 0,9%</td>\n",
       "      <td>RunTime</td>\n",
       "      <td>30000</td>\n",
       "    </tr>\n",
       "    <tr>\n",
       "      <th>9</th>\n",
       "      <td>50</td>\n",
       "      <td>50724.0</td>\n",
       "      <td>74711.0</td>\n",
       "      <td>2016-01-21 10:51:08.090</td>\n",
       "      <td>2016-01-21 10:56:02.120</td>\n",
       "      <td>294.000</td>\n",
       "      <td>8</td>\n",
       "      <td>0</td>\n",
       "      <td>FF011501</td>\n",
       "      <td>GESNEDEN MACARONI AS 0,9%</td>\n",
       "      <td>DownTime</td>\n",
       "      <td>30000</td>\n",
       "    </tr>\n",
       "    <tr>\n",
       "      <th>10</th>\n",
       "      <td>50</td>\n",
       "      <td>50724.0</td>\n",
       "      <td>74711.0</td>\n",
       "      <td>2016-01-21 10:56:02.120</td>\n",
       "      <td>2016-01-21 13:51:13.513</td>\n",
       "      <td>10511.000</td>\n",
       "      <td>1</td>\n",
       "      <td>0</td>\n",
       "      <td>FF011501</td>\n",
       "      <td>GESNEDEN MACARONI AS 0,9%</td>\n",
       "      <td>RunTime</td>\n",
       "      <td>30000</td>\n",
       "    </tr>\n",
       "    <tr>\n",
       "      <th>11</th>\n",
       "      <td>50</td>\n",
       "      <td>50724.0</td>\n",
       "      <td>74711.0</td>\n",
       "      <td>2016-01-21 13:51:13.513</td>\n",
       "      <td>2016-01-21 14:03:37.990</td>\n",
       "      <td>744.000</td>\n",
       "      <td>8</td>\n",
       "      <td>0</td>\n",
       "      <td>FF011501</td>\n",
       "      <td>GESNEDEN MACARONI AS 0,9%</td>\n",
       "      <td>DownTime</td>\n",
       "      <td>30000</td>\n",
       "    </tr>\n",
       "    <tr>\n",
       "      <th>12</th>\n",
       "      <td>50</td>\n",
       "      <td>50724.0</td>\n",
       "      <td>74711.0</td>\n",
       "      <td>2016-01-21 14:03:37.990</td>\n",
       "      <td>2016-01-21 15:37:37.417</td>\n",
       "      <td>5640.000</td>\n",
       "      <td>1</td>\n",
       "      <td>0</td>\n",
       "      <td>FF011501</td>\n",
       "      <td>GESNEDEN MACARONI AS 0,9%</td>\n",
       "      <td>RunTime</td>\n",
       "      <td>30000</td>\n",
       "    </tr>\n",
       "    <tr>\n",
       "      <th>13</th>\n",
       "      <td>50</td>\n",
       "      <td>50724.0</td>\n",
       "      <td>74711.0</td>\n",
       "      <td>2016-01-21 15:37:37.417</td>\n",
       "      <td>2016-01-21 15:41:59.390</td>\n",
       "      <td>262.000</td>\n",
       "      <td>10</td>\n",
       "      <td>0</td>\n",
       "      <td>FF011501</td>\n",
       "      <td>GESNEDEN MACARONI AS 0,9%</td>\n",
       "      <td>DownTime</td>\n",
       "      <td>30000</td>\n",
       "    </tr>\n",
       "    <tr>\n",
       "      <th>14</th>\n",
       "      <td>0</td>\n",
       "      <td>1.0</td>\n",
       "      <td>0.0</td>\n",
       "      <td>2016-01-21 15:41:59.390</td>\n",
       "      <td>2016-01-21 16:08:39.303</td>\n",
       "      <td>1599.913</td>\n",
       "      <td>0</td>\n",
       "      <td>0</td>\n",
       "      <td>000000EU</td>\n",
       "      <td>NONE</td>\n",
       "      <td>Break</td>\n",
       "      <td>0</td>\n",
       "    </tr>\n",
       "    <tr>\n",
       "      <th>15</th>\n",
       "      <td>50</td>\n",
       "      <td>50708.0</td>\n",
       "      <td>74732.0</td>\n",
       "      <td>2016-01-21 16:08:39.303</td>\n",
       "      <td>2016-01-21 16:10:43.323</td>\n",
       "      <td>124.000</td>\n",
       "      <td>10</td>\n",
       "      <td>0</td>\n",
       "      <td>FF036103</td>\n",
       "      <td>PENNE SCHERPE HOEK 40MM</td>\n",
       "      <td>DownTime</td>\n",
       "      <td>30000</td>\n",
       "    </tr>\n",
       "    <tr>\n",
       "      <th>16</th>\n",
       "      <td>50</td>\n",
       "      <td>50708.0</td>\n",
       "      <td>74732.0</td>\n",
       "      <td>2016-01-21 16:10:43.323</td>\n",
       "      <td>2016-01-21 20:31:58.620</td>\n",
       "      <td>15675.000</td>\n",
       "      <td>1</td>\n",
       "      <td>0</td>\n",
       "      <td>FF036103</td>\n",
       "      <td>PENNE SCHERPE HOEK 40MM</td>\n",
       "      <td>RunTime</td>\n",
       "      <td>30000</td>\n",
       "    </tr>\n",
       "    <tr>\n",
       "      <th>17</th>\n",
       "      <td>50</td>\n",
       "      <td>50708.0</td>\n",
       "      <td>74732.0</td>\n",
       "      <td>2016-01-21 20:31:58.620</td>\n",
       "      <td>2016-01-21 20:46:41.527</td>\n",
       "      <td>883.000</td>\n",
       "      <td>8</td>\n",
       "      <td>0</td>\n",
       "      <td>FF036103</td>\n",
       "      <td>PENNE SCHERPE HOEK 40MM</td>\n",
       "      <td>DownTime</td>\n",
       "      <td>30000</td>\n",
       "    </tr>\n",
       "    <tr>\n",
       "      <th>18</th>\n",
       "      <td>50</td>\n",
       "      <td>50708.0</td>\n",
       "      <td>74732.0</td>\n",
       "      <td>2016-01-21 20:46:41.527</td>\n",
       "      <td>2016-01-21 21:53:14.227</td>\n",
       "      <td>3993.000</td>\n",
       "      <td>1</td>\n",
       "      <td>0</td>\n",
       "      <td>FF036103</td>\n",
       "      <td>PENNE SCHERPE HOEK 40MM</td>\n",
       "      <td>RunTime</td>\n",
       "      <td>30000</td>\n",
       "    </tr>\n",
       "    <tr>\n",
       "      <th>19</th>\n",
       "      <td>50</td>\n",
       "      <td>50708.0</td>\n",
       "      <td>74732.0</td>\n",
       "      <td>2016-01-21 21:53:14.227</td>\n",
       "      <td>2016-01-21 21:56:36.353</td>\n",
       "      <td>202.000</td>\n",
       "      <td>8</td>\n",
       "      <td>0</td>\n",
       "      <td>FF036103</td>\n",
       "      <td>PENNE SCHERPE HOEK 40MM</td>\n",
       "      <td>DownTime</td>\n",
       "      <td>30000</td>\n",
       "    </tr>\n",
       "    <tr>\n",
       "      <th>20</th>\n",
       "      <td>50</td>\n",
       "      <td>50708.0</td>\n",
       "      <td>74732.0</td>\n",
       "      <td>2016-01-21 21:56:36.353</td>\n",
       "      <td>2016-01-21 22:06:16.173</td>\n",
       "      <td>580.000</td>\n",
       "      <td>1</td>\n",
       "      <td>0</td>\n",
       "      <td>FF036103</td>\n",
       "      <td>PENNE SCHERPE HOEK 40MM</td>\n",
       "      <td>RunTime</td>\n",
       "      <td>30000</td>\n",
       "    </tr>\n",
       "    <tr>\n",
       "      <th>21</th>\n",
       "      <td>50</td>\n",
       "      <td>50708.0</td>\n",
       "      <td>74732.0</td>\n",
       "      <td>2016-01-21 22:06:16.173</td>\n",
       "      <td>2016-01-21 22:12:29.140</td>\n",
       "      <td>373.000</td>\n",
       "      <td>10</td>\n",
       "      <td>0</td>\n",
       "      <td>FF036103</td>\n",
       "      <td>PENNE SCHERPE HOEK 40MM</td>\n",
       "      <td>DownTime</td>\n",
       "      <td>30000</td>\n",
       "    </tr>\n",
       "    <tr>\n",
       "      <th>22</th>\n",
       "      <td>0</td>\n",
       "      <td>2.0</td>\n",
       "      <td>0.0</td>\n",
       "      <td>2016-01-21 22:12:29.140</td>\n",
       "      <td>2016-01-21 22:39:59.233</td>\n",
       "      <td>1650.093</td>\n",
       "      <td>0</td>\n",
       "      <td>0</td>\n",
       "      <td>000000EU</td>\n",
       "      <td>NONE</td>\n",
       "      <td>Break</td>\n",
       "      <td>0</td>\n",
       "    </tr>\n",
       "    <tr>\n",
       "      <th>23</th>\n",
       "      <td>50</td>\n",
       "      <td>50740.0</td>\n",
       "      <td>74754.0</td>\n",
       "      <td>2016-01-21 22:39:59.233</td>\n",
       "      <td>2016-01-21 22:42:33.073</td>\n",
       "      <td>154.000</td>\n",
       "      <td>10</td>\n",
       "      <td>0</td>\n",
       "      <td>FF025450</td>\n",
       "      <td>KLEIN HORENTJE H/Z 10/90</td>\n",
       "      <td>DownTime</td>\n",
       "      <td>30000</td>\n",
       "    </tr>\n",
       "    <tr>\n",
       "      <th>24</th>\n",
       "      <td>50</td>\n",
       "      <td>50740.0</td>\n",
       "      <td>74754.0</td>\n",
       "      <td>2016-01-21 22:42:33.073</td>\n",
       "      <td>2016-01-22 02:32:39.627</td>\n",
       "      <td>13806.000</td>\n",
       "      <td>1</td>\n",
       "      <td>0</td>\n",
       "      <td>FF025450</td>\n",
       "      <td>KLEIN HORENTJE H/Z 10/90</td>\n",
       "      <td>RunTime</td>\n",
       "      <td>30000</td>\n",
       "    </tr>\n",
       "    <tr>\n",
       "      <th>25</th>\n",
       "      <td>50</td>\n",
       "      <td>50740.0</td>\n",
       "      <td>74754.0</td>\n",
       "      <td>2016-01-22 02:32:39.627</td>\n",
       "      <td>2016-01-22 02:34:59.640</td>\n",
       "      <td>140.000</td>\n",
       "      <td>8</td>\n",
       "      <td>0</td>\n",
       "      <td>FF025450</td>\n",
       "      <td>KLEIN HORENTJE H/Z 10/90</td>\n",
       "      <td>DownTime</td>\n",
       "      <td>30000</td>\n",
       "    </tr>\n",
       "    <tr>\n",
       "      <th>26</th>\n",
       "      <td>50</td>\n",
       "      <td>50740.0</td>\n",
       "      <td>74754.0</td>\n",
       "      <td>2016-01-22 02:34:59.640</td>\n",
       "      <td>2016-01-22 04:20:30.020</td>\n",
       "      <td>6331.000</td>\n",
       "      <td>1</td>\n",
       "      <td>0</td>\n",
       "      <td>FF025450</td>\n",
       "      <td>KLEIN HORENTJE H/Z 10/90</td>\n",
       "      <td>RunTime</td>\n",
       "      <td>30000</td>\n",
       "    </tr>\n",
       "    <tr>\n",
       "      <th>27</th>\n",
       "      <td>50</td>\n",
       "      <td>50740.0</td>\n",
       "      <td>74754.0</td>\n",
       "      <td>2016-01-22 04:20:30.020</td>\n",
       "      <td>2016-01-22 04:22:55.947</td>\n",
       "      <td>145.000</td>\n",
       "      <td>1</td>\n",
       "      <td>BackClicked</td>\n",
       "      <td>FF025450</td>\n",
       "      <td>KLEIN HORENTJE H/Z 10/90</td>\n",
       "      <td>DownTime</td>\n",
       "      <td>30000</td>\n",
       "    </tr>\n",
       "    <tr>\n",
       "      <th>28</th>\n",
       "      <td>50</td>\n",
       "      <td>50740.0</td>\n",
       "      <td>74754.0</td>\n",
       "      <td>2016-01-22 04:22:55.947</td>\n",
       "      <td>2016-01-22 04:25:02.920</td>\n",
       "      <td>127.000</td>\n",
       "      <td>1</td>\n",
       "      <td>0</td>\n",
       "      <td>FF025450</td>\n",
       "      <td>KLEIN HORENTJE H/Z 10/90</td>\n",
       "      <td>RunTime</td>\n",
       "      <td>30000</td>\n",
       "    </tr>\n",
       "    <tr>\n",
       "      <th>29</th>\n",
       "      <td>0</td>\n",
       "      <td>3.0</td>\n",
       "      <td>0.0</td>\n",
       "      <td>2016-01-22 04:25:02.920</td>\n",
       "      <td>2016-01-22 04:56:09.047</td>\n",
       "      <td>1866.127</td>\n",
       "      <td>0</td>\n",
       "      <td>0</td>\n",
       "      <td>000000EU</td>\n",
       "      <td>NONE</td>\n",
       "      <td>Break</td>\n",
       "      <td>0</td>\n",
       "    </tr>\n",
       "    <tr>\n",
       "      <th>...</th>\n",
       "      <td>...</td>\n",
       "      <td>...</td>\n",
       "      <td>...</td>\n",
       "      <td>...</td>\n",
       "      <td>...</td>\n",
       "      <td>...</td>\n",
       "      <td>...</td>\n",
       "      <td>...</td>\n",
       "      <td>...</td>\n",
       "      <td>...</td>\n",
       "      <td>...</td>\n",
       "      <td>...</td>\n",
       "    </tr>\n",
       "    <tr>\n",
       "      <th>8211</th>\n",
       "      <td>50</td>\n",
       "      <td>77253.0</td>\n",
       "      <td>115946.0</td>\n",
       "      <td>2017-11-27 21:54:29.607</td>\n",
       "      <td>2017-11-28 09:27:58.470</td>\n",
       "      <td>41609.000</td>\n",
       "      <td>1</td>\n",
       "      <td>0</td>\n",
       "      <td>FF144220</td>\n",
       "      <td>SPIRELLI VOLKOREN STANDAARD</td>\n",
       "      <td>RunTime</td>\n",
       "      <td>60000</td>\n",
       "    </tr>\n",
       "    <tr>\n",
       "      <th>8212</th>\n",
       "      <td>50</td>\n",
       "      <td>77305.0</td>\n",
       "      <td>115987.0</td>\n",
       "      <td>2017-11-28 09:27:58.470</td>\n",
       "      <td>2017-11-28 09:30:02.213</td>\n",
       "      <td>124.000</td>\n",
       "      <td>1</td>\n",
       "      <td>0</td>\n",
       "      <td>FF025315</td>\n",
       "      <td>HORENTJES H/Z 60/40</td>\n",
       "      <td>RunTime</td>\n",
       "      <td>40000</td>\n",
       "    </tr>\n",
       "    <tr>\n",
       "      <th>8213</th>\n",
       "      <td>50</td>\n",
       "      <td>77305.0</td>\n",
       "      <td>115987.0</td>\n",
       "      <td>2017-11-28 09:30:02.213</td>\n",
       "      <td>2017-11-28 10:01:35.600</td>\n",
       "      <td>1893.000</td>\n",
       "      <td>5</td>\n",
       "      <td>0</td>\n",
       "      <td>FF025315</td>\n",
       "      <td>HORENTJES H/Z 60/40</td>\n",
       "      <td>DownTime</td>\n",
       "      <td>40000</td>\n",
       "    </tr>\n",
       "    <tr>\n",
       "      <th>8214</th>\n",
       "      <td>50</td>\n",
       "      <td>77305.0</td>\n",
       "      <td>115987.0</td>\n",
       "      <td>2017-11-28 10:01:35.600</td>\n",
       "      <td>2017-11-28 10:08:33.343</td>\n",
       "      <td>418.000</td>\n",
       "      <td>1</td>\n",
       "      <td>0</td>\n",
       "      <td>FF025315</td>\n",
       "      <td>HORENTJES H/Z 60/40</td>\n",
       "      <td>RunTime</td>\n",
       "      <td>40000</td>\n",
       "    </tr>\n",
       "    <tr>\n",
       "      <th>8215</th>\n",
       "      <td>50</td>\n",
       "      <td>77305.0</td>\n",
       "      <td>115987.0</td>\n",
       "      <td>2017-11-28 10:08:33.343</td>\n",
       "      <td>2017-11-28 10:11:34.370</td>\n",
       "      <td>181.000</td>\n",
       "      <td>10</td>\n",
       "      <td>0</td>\n",
       "      <td>FF025315</td>\n",
       "      <td>HORENTJES H/Z 60/40</td>\n",
       "      <td>DownTime</td>\n",
       "      <td>40000</td>\n",
       "    </tr>\n",
       "    <tr>\n",
       "      <th>8216</th>\n",
       "      <td>50</td>\n",
       "      <td>77305.0</td>\n",
       "      <td>115987.0</td>\n",
       "      <td>2017-11-28 10:11:34.370</td>\n",
       "      <td>2017-11-28 13:59:58.107</td>\n",
       "      <td>13704.000</td>\n",
       "      <td>1</td>\n",
       "      <td>0</td>\n",
       "      <td>FF025315</td>\n",
       "      <td>HORENTJES H/Z 60/40</td>\n",
       "      <td>RunTime</td>\n",
       "      <td>40000</td>\n",
       "    </tr>\n",
       "    <tr>\n",
       "      <th>8217</th>\n",
       "      <td>50</td>\n",
       "      <td>77305.0</td>\n",
       "      <td>115987.0</td>\n",
       "      <td>2017-11-28 13:59:58.107</td>\n",
       "      <td>2017-11-29 09:18:17.513</td>\n",
       "      <td>69499.000</td>\n",
       "      <td>5</td>\n",
       "      <td>0</td>\n",
       "      <td>FF025315</td>\n",
       "      <td>HORENTJES H/Z 60/40</td>\n",
       "      <td>DownTime</td>\n",
       "      <td>40000</td>\n",
       "    </tr>\n",
       "    <tr>\n",
       "      <th>8218</th>\n",
       "      <td>0</td>\n",
       "      <td>846.0</td>\n",
       "      <td>0.0</td>\n",
       "      <td>2017-11-29 09:18:17.513</td>\n",
       "      <td>2017-11-29 19:40:23.603</td>\n",
       "      <td>37326.090</td>\n",
       "      <td>0</td>\n",
       "      <td>0</td>\n",
       "      <td>000000EU</td>\n",
       "      <td>NONE</td>\n",
       "      <td>Break</td>\n",
       "      <td>0</td>\n",
       "    </tr>\n",
       "    <tr>\n",
       "      <th>8219</th>\n",
       "      <td>50</td>\n",
       "      <td>77325.0</td>\n",
       "      <td>116097.0</td>\n",
       "      <td>2017-11-29 19:40:23.603</td>\n",
       "      <td>2017-11-29 19:44:43.650</td>\n",
       "      <td>260.000</td>\n",
       "      <td>9</td>\n",
       "      <td>0</td>\n",
       "      <td>FF145300</td>\n",
       "      <td>HORENTJES VOLKOREN STANDAARD</td>\n",
       "      <td>DownTime</td>\n",
       "      <td>40000</td>\n",
       "    </tr>\n",
       "    <tr>\n",
       "      <th>8220</th>\n",
       "      <td>50</td>\n",
       "      <td>77325.0</td>\n",
       "      <td>116097.0</td>\n",
       "      <td>2017-11-29 19:44:43.650</td>\n",
       "      <td>2017-11-29 19:55:18.673</td>\n",
       "      <td>635.000</td>\n",
       "      <td>1</td>\n",
       "      <td>0</td>\n",
       "      <td>FF145300</td>\n",
       "      <td>HORENTJES VOLKOREN STANDAARD</td>\n",
       "      <td>RunTime</td>\n",
       "      <td>40000</td>\n",
       "    </tr>\n",
       "    <tr>\n",
       "      <th>8221</th>\n",
       "      <td>50</td>\n",
       "      <td>77325.0</td>\n",
       "      <td>116097.0</td>\n",
       "      <td>2017-11-29 19:55:18.673</td>\n",
       "      <td>2017-11-29 20:02:28.717</td>\n",
       "      <td>430.000</td>\n",
       "      <td>1</td>\n",
       "      <td>NewDownTime</td>\n",
       "      <td>FF145300</td>\n",
       "      <td>HORENTJES VOLKOREN STANDAARD</td>\n",
       "      <td>DownTime</td>\n",
       "      <td>40000</td>\n",
       "    </tr>\n",
       "    <tr>\n",
       "      <th>8222</th>\n",
       "      <td>50</td>\n",
       "      <td>77325.0</td>\n",
       "      <td>116097.0</td>\n",
       "      <td>2017-11-29 20:02:28.717</td>\n",
       "      <td>2017-11-29 20:05:04.760</td>\n",
       "      <td>156.000</td>\n",
       "      <td>1</td>\n",
       "      <td>0</td>\n",
       "      <td>FF145300</td>\n",
       "      <td>HORENTJES VOLKOREN STANDAARD</td>\n",
       "      <td>RunTime</td>\n",
       "      <td>40000</td>\n",
       "    </tr>\n",
       "    <tr>\n",
       "      <th>8223</th>\n",
       "      <td>50</td>\n",
       "      <td>77325.0</td>\n",
       "      <td>116097.0</td>\n",
       "      <td>2017-11-29 20:05:04.760</td>\n",
       "      <td>2017-11-29 20:14:15.863</td>\n",
       "      <td>551.000</td>\n",
       "      <td>9</td>\n",
       "      <td>0</td>\n",
       "      <td>FF145300</td>\n",
       "      <td>HORENTJES VOLKOREN STANDAARD</td>\n",
       "      <td>DownTime</td>\n",
       "      <td>40000</td>\n",
       "    </tr>\n",
       "    <tr>\n",
       "      <th>8224</th>\n",
       "      <td>50</td>\n",
       "      <td>77325.0</td>\n",
       "      <td>116097.0</td>\n",
       "      <td>2017-11-29 20:14:15.863</td>\n",
       "      <td>2017-11-29 20:17:28.753</td>\n",
       "      <td>193.000</td>\n",
       "      <td>1</td>\n",
       "      <td>0</td>\n",
       "      <td>FF145300</td>\n",
       "      <td>HORENTJES VOLKOREN STANDAARD</td>\n",
       "      <td>RunTime</td>\n",
       "      <td>40000</td>\n",
       "    </tr>\n",
       "    <tr>\n",
       "      <th>8225</th>\n",
       "      <td>50</td>\n",
       "      <td>77325.0</td>\n",
       "      <td>116097.0</td>\n",
       "      <td>2017-11-29 20:17:28.753</td>\n",
       "      <td>2017-11-29 20:24:05.760</td>\n",
       "      <td>397.000</td>\n",
       "      <td>8</td>\n",
       "      <td>0</td>\n",
       "      <td>FF145300</td>\n",
       "      <td>HORENTJES VOLKOREN STANDAARD</td>\n",
       "      <td>DownTime</td>\n",
       "      <td>40000</td>\n",
       "    </tr>\n",
       "    <tr>\n",
       "      <th>8226</th>\n",
       "      <td>50</td>\n",
       "      <td>77325.0</td>\n",
       "      <td>116097.0</td>\n",
       "      <td>2017-11-29 20:24:05.760</td>\n",
       "      <td>2017-11-30 02:53:07.433</td>\n",
       "      <td>23342.000</td>\n",
       "      <td>1</td>\n",
       "      <td>0</td>\n",
       "      <td>FF145300</td>\n",
       "      <td>HORENTJES VOLKOREN STANDAARD</td>\n",
       "      <td>RunTime</td>\n",
       "      <td>40000</td>\n",
       "    </tr>\n",
       "    <tr>\n",
       "      <th>8227</th>\n",
       "      <td>50</td>\n",
       "      <td>77325.0</td>\n",
       "      <td>116097.0</td>\n",
       "      <td>2017-11-30 02:53:07.433</td>\n",
       "      <td>2017-11-30 02:56:11.363</td>\n",
       "      <td>184.000</td>\n",
       "      <td>10</td>\n",
       "      <td>0</td>\n",
       "      <td>FF145300</td>\n",
       "      <td>HORENTJES VOLKOREN STANDAARD</td>\n",
       "      <td>DownTime</td>\n",
       "      <td>40000</td>\n",
       "    </tr>\n",
       "    <tr>\n",
       "      <th>8228</th>\n",
       "      <td>50</td>\n",
       "      <td>77326.0</td>\n",
       "      <td>116118.0</td>\n",
       "      <td>2017-11-30 02:56:11.363</td>\n",
       "      <td>2017-11-30 03:18:34.567</td>\n",
       "      <td>1343.000</td>\n",
       "      <td>10</td>\n",
       "      <td>0</td>\n",
       "      <td>FF029101</td>\n",
       "      <td>MACARONI KORT AS 1,1% DURUM</td>\n",
       "      <td>DownTime</td>\n",
       "      <td>40000</td>\n",
       "    </tr>\n",
       "    <tr>\n",
       "      <th>8229</th>\n",
       "      <td>50</td>\n",
       "      <td>77326.0</td>\n",
       "      <td>116118.0</td>\n",
       "      <td>2017-11-30 03:18:34.567</td>\n",
       "      <td>2017-11-30 09:41:12.183</td>\n",
       "      <td>22958.000</td>\n",
       "      <td>1</td>\n",
       "      <td>0</td>\n",
       "      <td>FF029101</td>\n",
       "      <td>MACARONI KORT AS 1,1% DURUM</td>\n",
       "      <td>RunTime</td>\n",
       "      <td>40000</td>\n",
       "    </tr>\n",
       "    <tr>\n",
       "      <th>8230</th>\n",
       "      <td>50</td>\n",
       "      <td>77326.0</td>\n",
       "      <td>116118.0</td>\n",
       "      <td>2017-11-30 09:41:12.183</td>\n",
       "      <td>2017-11-30 09:48:59.170</td>\n",
       "      <td>467.000</td>\n",
       "      <td>8</td>\n",
       "      <td>0</td>\n",
       "      <td>FF029101</td>\n",
       "      <td>MACARONI KORT AS 1,1% DURUM</td>\n",
       "      <td>DownTime</td>\n",
       "      <td>40000</td>\n",
       "    </tr>\n",
       "    <tr>\n",
       "      <th>8231</th>\n",
       "      <td>0</td>\n",
       "      <td>847.0</td>\n",
       "      <td>0.0</td>\n",
       "      <td>2017-11-30 09:48:59.170</td>\n",
       "      <td>2017-11-30 09:49:08.033</td>\n",
       "      <td>8.863</td>\n",
       "      <td>0</td>\n",
       "      <td>0</td>\n",
       "      <td>000000EU</td>\n",
       "      <td>NONE</td>\n",
       "      <td>Break</td>\n",
       "      <td>0</td>\n",
       "    </tr>\n",
       "    <tr>\n",
       "      <th>8232</th>\n",
       "      <td>50</td>\n",
       "      <td>77248.0</td>\n",
       "      <td>116145.0</td>\n",
       "      <td>2017-11-30 09:49:08.033</td>\n",
       "      <td>2017-11-30 09:57:50.143</td>\n",
       "      <td>522.000</td>\n",
       "      <td>10</td>\n",
       "      <td>0</td>\n",
       "      <td>FF025305</td>\n",
       "      <td>HORENTJES KDO</td>\n",
       "      <td>DownTime</td>\n",
       "      <td>45000</td>\n",
       "    </tr>\n",
       "    <tr>\n",
       "      <th>8233</th>\n",
       "      <td>50</td>\n",
       "      <td>77248.0</td>\n",
       "      <td>116145.0</td>\n",
       "      <td>2017-11-30 09:57:50.143</td>\n",
       "      <td>2017-11-30 10:06:02.123</td>\n",
       "      <td>492.000</td>\n",
       "      <td>1</td>\n",
       "      <td>0</td>\n",
       "      <td>FF025305</td>\n",
       "      <td>HORENTJES KDO</td>\n",
       "      <td>RunTime</td>\n",
       "      <td>45000</td>\n",
       "    </tr>\n",
       "    <tr>\n",
       "      <th>8234</th>\n",
       "      <td>50</td>\n",
       "      <td>77248.0</td>\n",
       "      <td>116145.0</td>\n",
       "      <td>2017-11-30 10:06:02.123</td>\n",
       "      <td>2017-11-30 10:11:48.133</td>\n",
       "      <td>346.000</td>\n",
       "      <td>1</td>\n",
       "      <td>NewDownTime</td>\n",
       "      <td>FF025305</td>\n",
       "      <td>HORENTJES KDO</td>\n",
       "      <td>DownTime</td>\n",
       "      <td>45000</td>\n",
       "    </tr>\n",
       "    <tr>\n",
       "      <th>8235</th>\n",
       "      <td>50</td>\n",
       "      <td>77248.0</td>\n",
       "      <td>116145.0</td>\n",
       "      <td>2017-11-30 10:11:48.133</td>\n",
       "      <td>2017-11-30 10:13:24.123</td>\n",
       "      <td>96.000</td>\n",
       "      <td>1</td>\n",
       "      <td>0</td>\n",
       "      <td>FF025305</td>\n",
       "      <td>HORENTJES KDO</td>\n",
       "      <td>RunTime</td>\n",
       "      <td>45000</td>\n",
       "    </tr>\n",
       "    <tr>\n",
       "      <th>8236</th>\n",
       "      <td>50</td>\n",
       "      <td>77248.0</td>\n",
       "      <td>116145.0</td>\n",
       "      <td>2017-11-30 10:13:24.123</td>\n",
       "      <td>2017-11-30 10:20:04.283</td>\n",
       "      <td>400.000</td>\n",
       "      <td>10</td>\n",
       "      <td>0</td>\n",
       "      <td>FF025305</td>\n",
       "      <td>HORENTJES KDO</td>\n",
       "      <td>DownTime</td>\n",
       "      <td>45000</td>\n",
       "    </tr>\n",
       "    <tr>\n",
       "      <th>8237</th>\n",
       "      <td>50</td>\n",
       "      <td>77248.0</td>\n",
       "      <td>116145.0</td>\n",
       "      <td>2017-11-30 10:20:04.283</td>\n",
       "      <td>2017-11-30 10:20:58.137</td>\n",
       "      <td>54.000</td>\n",
       "      <td>1</td>\n",
       "      <td>0</td>\n",
       "      <td>FF025305</td>\n",
       "      <td>HORENTJES KDO</td>\n",
       "      <td>RunTime</td>\n",
       "      <td>45000</td>\n",
       "    </tr>\n",
       "    <tr>\n",
       "      <th>8238</th>\n",
       "      <td>50</td>\n",
       "      <td>77248.0</td>\n",
       "      <td>116145.0</td>\n",
       "      <td>2017-11-30 10:20:58.137</td>\n",
       "      <td>2017-11-30 10:30:24.223</td>\n",
       "      <td>566.000</td>\n",
       "      <td>10</td>\n",
       "      <td>0</td>\n",
       "      <td>FF025305</td>\n",
       "      <td>HORENTJES KDO</td>\n",
       "      <td>DownTime</td>\n",
       "      <td>45000</td>\n",
       "    </tr>\n",
       "    <tr>\n",
       "      <th>8239</th>\n",
       "      <td>50</td>\n",
       "      <td>77248.0</td>\n",
       "      <td>116145.0</td>\n",
       "      <td>2017-11-30 10:30:24.223</td>\n",
       "      <td>2017-11-30 10:31:14.173</td>\n",
       "      <td>50.000</td>\n",
       "      <td>1</td>\n",
       "      <td>0</td>\n",
       "      <td>FF025305</td>\n",
       "      <td>HORENTJES KDO</td>\n",
       "      <td>RunTime</td>\n",
       "      <td>45000</td>\n",
       "    </tr>\n",
       "    <tr>\n",
       "      <th>8240</th>\n",
       "      <td>50</td>\n",
       "      <td>77248.0</td>\n",
       "      <td>116145.0</td>\n",
       "      <td>2017-11-30 10:31:14.173</td>\n",
       "      <td>2017-11-30 10:33:39.177</td>\n",
       "      <td>145.000</td>\n",
       "      <td>10</td>\n",
       "      <td>0</td>\n",
       "      <td>FF025305</td>\n",
       "      <td>HORENTJES KDO</td>\n",
       "      <td>DownTime</td>\n",
       "      <td>45000</td>\n",
       "    </tr>\n",
       "  </tbody>\n",
       "</table>\n",
       "<p>8241 rows × 12 columns</p>\n",
       "</div>"
      ],
      "text/plain": [
       "      EquipmentId  ProductionRequestId  SegmentResponseId  \\\n",
       "0              50              50675.0            74525.0   \n",
       "1              50              50675.0            74525.0   \n",
       "2              50              50675.0            74525.0   \n",
       "3              50              50675.0            74525.0   \n",
       "4              50              50675.0            74525.0   \n",
       "5              50              50675.0            74525.0   \n",
       "6               0                  0.0                0.0   \n",
       "7              50              50724.0            74711.0   \n",
       "8              50              50724.0            74711.0   \n",
       "9              50              50724.0            74711.0   \n",
       "10             50              50724.0            74711.0   \n",
       "11             50              50724.0            74711.0   \n",
       "12             50              50724.0            74711.0   \n",
       "13             50              50724.0            74711.0   \n",
       "14              0                  1.0                0.0   \n",
       "15             50              50708.0            74732.0   \n",
       "16             50              50708.0            74732.0   \n",
       "17             50              50708.0            74732.0   \n",
       "18             50              50708.0            74732.0   \n",
       "19             50              50708.0            74732.0   \n",
       "20             50              50708.0            74732.0   \n",
       "21             50              50708.0            74732.0   \n",
       "22              0                  2.0                0.0   \n",
       "23             50              50740.0            74754.0   \n",
       "24             50              50740.0            74754.0   \n",
       "25             50              50740.0            74754.0   \n",
       "26             50              50740.0            74754.0   \n",
       "27             50              50740.0            74754.0   \n",
       "28             50              50740.0            74754.0   \n",
       "29              0                  3.0                0.0   \n",
       "...           ...                  ...                ...   \n",
       "8211           50              77253.0           115946.0   \n",
       "8212           50              77305.0           115987.0   \n",
       "8213           50              77305.0           115987.0   \n",
       "8214           50              77305.0           115987.0   \n",
       "8215           50              77305.0           115987.0   \n",
       "8216           50              77305.0           115987.0   \n",
       "8217           50              77305.0           115987.0   \n",
       "8218            0                846.0                0.0   \n",
       "8219           50              77325.0           116097.0   \n",
       "8220           50              77325.0           116097.0   \n",
       "8221           50              77325.0           116097.0   \n",
       "8222           50              77325.0           116097.0   \n",
       "8223           50              77325.0           116097.0   \n",
       "8224           50              77325.0           116097.0   \n",
       "8225           50              77325.0           116097.0   \n",
       "8226           50              77325.0           116097.0   \n",
       "8227           50              77325.0           116097.0   \n",
       "8228           50              77326.0           116118.0   \n",
       "8229           50              77326.0           116118.0   \n",
       "8230           50              77326.0           116118.0   \n",
       "8231            0                847.0                0.0   \n",
       "8232           50              77248.0           116145.0   \n",
       "8233           50              77248.0           116145.0   \n",
       "8234           50              77248.0           116145.0   \n",
       "8235           50              77248.0           116145.0   \n",
       "8236           50              77248.0           116145.0   \n",
       "8237           50              77248.0           116145.0   \n",
       "8238           50              77248.0           116145.0   \n",
       "8239           50              77248.0           116145.0   \n",
       "8240           50              77248.0           116145.0   \n",
       "\n",
       "                StartDateUTC              EndDateUTC    Duration  ReasonId  \\\n",
       "0    2016-01-19 14:21:47.980 2016-01-19 14:22:51.830      64.000        10   \n",
       "1    2016-01-19 14:22:51.830 2016-01-19 17:23:51.660   10860.000         1   \n",
       "2    2016-01-19 17:23:51.660 2016-01-19 17:30:45.690     414.000         8   \n",
       "3    2016-01-19 17:30:45.690 2016-01-19 19:41:56.830    7871.000         1   \n",
       "4    2016-01-19 19:41:56.830 2016-01-19 19:44:53.073     177.000        10   \n",
       "5    2016-01-19 19:44:53.073 2016-01-19 19:49:18.047     265.000         1   \n",
       "6    2016-01-19 19:49:18.047 2016-01-21 09:56:44.780  137246.733         0   \n",
       "7    2016-01-21 09:56:44.780 2016-01-21 09:58:50.930     126.000         9   \n",
       "8    2016-01-21 09:58:50.930 2016-01-21 10:51:08.090    3138.000         1   \n",
       "9    2016-01-21 10:51:08.090 2016-01-21 10:56:02.120     294.000         8   \n",
       "10   2016-01-21 10:56:02.120 2016-01-21 13:51:13.513   10511.000         1   \n",
       "11   2016-01-21 13:51:13.513 2016-01-21 14:03:37.990     744.000         8   \n",
       "12   2016-01-21 14:03:37.990 2016-01-21 15:37:37.417    5640.000         1   \n",
       "13   2016-01-21 15:37:37.417 2016-01-21 15:41:59.390     262.000        10   \n",
       "14   2016-01-21 15:41:59.390 2016-01-21 16:08:39.303    1599.913         0   \n",
       "15   2016-01-21 16:08:39.303 2016-01-21 16:10:43.323     124.000        10   \n",
       "16   2016-01-21 16:10:43.323 2016-01-21 20:31:58.620   15675.000         1   \n",
       "17   2016-01-21 20:31:58.620 2016-01-21 20:46:41.527     883.000         8   \n",
       "18   2016-01-21 20:46:41.527 2016-01-21 21:53:14.227    3993.000         1   \n",
       "19   2016-01-21 21:53:14.227 2016-01-21 21:56:36.353     202.000         8   \n",
       "20   2016-01-21 21:56:36.353 2016-01-21 22:06:16.173     580.000         1   \n",
       "21   2016-01-21 22:06:16.173 2016-01-21 22:12:29.140     373.000        10   \n",
       "22   2016-01-21 22:12:29.140 2016-01-21 22:39:59.233    1650.093         0   \n",
       "23   2016-01-21 22:39:59.233 2016-01-21 22:42:33.073     154.000        10   \n",
       "24   2016-01-21 22:42:33.073 2016-01-22 02:32:39.627   13806.000         1   \n",
       "25   2016-01-22 02:32:39.627 2016-01-22 02:34:59.640     140.000         8   \n",
       "26   2016-01-22 02:34:59.640 2016-01-22 04:20:30.020    6331.000         1   \n",
       "27   2016-01-22 04:20:30.020 2016-01-22 04:22:55.947     145.000         1   \n",
       "28   2016-01-22 04:22:55.947 2016-01-22 04:25:02.920     127.000         1   \n",
       "29   2016-01-22 04:25:02.920 2016-01-22 04:56:09.047    1866.127         0   \n",
       "...                      ...                     ...         ...       ...   \n",
       "8211 2017-11-27 21:54:29.607 2017-11-28 09:27:58.470   41609.000         1   \n",
       "8212 2017-11-28 09:27:58.470 2017-11-28 09:30:02.213     124.000         1   \n",
       "8213 2017-11-28 09:30:02.213 2017-11-28 10:01:35.600    1893.000         5   \n",
       "8214 2017-11-28 10:01:35.600 2017-11-28 10:08:33.343     418.000         1   \n",
       "8215 2017-11-28 10:08:33.343 2017-11-28 10:11:34.370     181.000        10   \n",
       "8216 2017-11-28 10:11:34.370 2017-11-28 13:59:58.107   13704.000         1   \n",
       "8217 2017-11-28 13:59:58.107 2017-11-29 09:18:17.513   69499.000         5   \n",
       "8218 2017-11-29 09:18:17.513 2017-11-29 19:40:23.603   37326.090         0   \n",
       "8219 2017-11-29 19:40:23.603 2017-11-29 19:44:43.650     260.000         9   \n",
       "8220 2017-11-29 19:44:43.650 2017-11-29 19:55:18.673     635.000         1   \n",
       "8221 2017-11-29 19:55:18.673 2017-11-29 20:02:28.717     430.000         1   \n",
       "8222 2017-11-29 20:02:28.717 2017-11-29 20:05:04.760     156.000         1   \n",
       "8223 2017-11-29 20:05:04.760 2017-11-29 20:14:15.863     551.000         9   \n",
       "8224 2017-11-29 20:14:15.863 2017-11-29 20:17:28.753     193.000         1   \n",
       "8225 2017-11-29 20:17:28.753 2017-11-29 20:24:05.760     397.000         8   \n",
       "8226 2017-11-29 20:24:05.760 2017-11-30 02:53:07.433   23342.000         1   \n",
       "8227 2017-11-30 02:53:07.433 2017-11-30 02:56:11.363     184.000        10   \n",
       "8228 2017-11-30 02:56:11.363 2017-11-30 03:18:34.567    1343.000        10   \n",
       "8229 2017-11-30 03:18:34.567 2017-11-30 09:41:12.183   22958.000         1   \n",
       "8230 2017-11-30 09:41:12.183 2017-11-30 09:48:59.170     467.000         8   \n",
       "8231 2017-11-30 09:48:59.170 2017-11-30 09:49:08.033       8.863         0   \n",
       "8232 2017-11-30 09:49:08.033 2017-11-30 09:57:50.143     522.000        10   \n",
       "8233 2017-11-30 09:57:50.143 2017-11-30 10:06:02.123     492.000         1   \n",
       "8234 2017-11-30 10:06:02.123 2017-11-30 10:11:48.133     346.000         1   \n",
       "8235 2017-11-30 10:11:48.133 2017-11-30 10:13:24.123      96.000         1   \n",
       "8236 2017-11-30 10:13:24.123 2017-11-30 10:20:04.283     400.000        10   \n",
       "8237 2017-11-30 10:20:04.283 2017-11-30 10:20:58.137      54.000         1   \n",
       "8238 2017-11-30 10:20:58.137 2017-11-30 10:30:24.223     566.000        10   \n",
       "8239 2017-11-30 10:30:24.223 2017-11-30 10:31:14.173      50.000         1   \n",
       "8240 2017-11-30 10:31:14.173 2017-11-30 10:33:39.177     145.000        10   \n",
       "\n",
       "       IgnoreType ArticleCode                   ArticleName      Type  \\\n",
       "0               0    FF029001      MACARONI KORT PLATTE ZAK  DownTime   \n",
       "1               0    FF029001      MACARONI KORT PLATTE ZAK   RunTime   \n",
       "2               0    FF029001      MACARONI KORT PLATTE ZAK  DownTime   \n",
       "3               0    FF029001      MACARONI KORT PLATTE ZAK   RunTime   \n",
       "4               0    FF029001      MACARONI KORT PLATTE ZAK  DownTime   \n",
       "5               0    FF029001      MACARONI KORT PLATTE ZAK   RunTime   \n",
       "6               0    000000EU                          NONE     Break   \n",
       "7               0    FF011501     GESNEDEN MACARONI AS 0,9%  DownTime   \n",
       "8               0    FF011501     GESNEDEN MACARONI AS 0,9%   RunTime   \n",
       "9               0    FF011501     GESNEDEN MACARONI AS 0,9%  DownTime   \n",
       "10              0    FF011501     GESNEDEN MACARONI AS 0,9%   RunTime   \n",
       "11              0    FF011501     GESNEDEN MACARONI AS 0,9%  DownTime   \n",
       "12              0    FF011501     GESNEDEN MACARONI AS 0,9%   RunTime   \n",
       "13              0    FF011501     GESNEDEN MACARONI AS 0,9%  DownTime   \n",
       "14              0    000000EU                          NONE     Break   \n",
       "15              0    FF036103       PENNE SCHERPE HOEK 40MM  DownTime   \n",
       "16              0    FF036103       PENNE SCHERPE HOEK 40MM   RunTime   \n",
       "17              0    FF036103       PENNE SCHERPE HOEK 40MM  DownTime   \n",
       "18              0    FF036103       PENNE SCHERPE HOEK 40MM   RunTime   \n",
       "19              0    FF036103       PENNE SCHERPE HOEK 40MM  DownTime   \n",
       "20              0    FF036103       PENNE SCHERPE HOEK 40MM   RunTime   \n",
       "21              0    FF036103       PENNE SCHERPE HOEK 40MM  DownTime   \n",
       "22              0    000000EU                          NONE     Break   \n",
       "23              0    FF025450      KLEIN HORENTJE H/Z 10/90  DownTime   \n",
       "24              0    FF025450      KLEIN HORENTJE H/Z 10/90   RunTime   \n",
       "25              0    FF025450      KLEIN HORENTJE H/Z 10/90  DownTime   \n",
       "26              0    FF025450      KLEIN HORENTJE H/Z 10/90   RunTime   \n",
       "27    BackClicked    FF025450      KLEIN HORENTJE H/Z 10/90  DownTime   \n",
       "28              0    FF025450      KLEIN HORENTJE H/Z 10/90   RunTime   \n",
       "29              0    000000EU                          NONE     Break   \n",
       "...           ...         ...                           ...       ...   \n",
       "8211            0    FF144220   SPIRELLI VOLKOREN STANDAARD   RunTime   \n",
       "8212            0    FF025315           HORENTJES H/Z 60/40   RunTime   \n",
       "8213            0    FF025315           HORENTJES H/Z 60/40  DownTime   \n",
       "8214            0    FF025315           HORENTJES H/Z 60/40   RunTime   \n",
       "8215            0    FF025315           HORENTJES H/Z 60/40  DownTime   \n",
       "8216            0    FF025315           HORENTJES H/Z 60/40   RunTime   \n",
       "8217            0    FF025315           HORENTJES H/Z 60/40  DownTime   \n",
       "8218            0    000000EU                          NONE     Break   \n",
       "8219            0    FF145300  HORENTJES VOLKOREN STANDAARD  DownTime   \n",
       "8220            0    FF145300  HORENTJES VOLKOREN STANDAARD   RunTime   \n",
       "8221  NewDownTime    FF145300  HORENTJES VOLKOREN STANDAARD  DownTime   \n",
       "8222            0    FF145300  HORENTJES VOLKOREN STANDAARD   RunTime   \n",
       "8223            0    FF145300  HORENTJES VOLKOREN STANDAARD  DownTime   \n",
       "8224            0    FF145300  HORENTJES VOLKOREN STANDAARD   RunTime   \n",
       "8225            0    FF145300  HORENTJES VOLKOREN STANDAARD  DownTime   \n",
       "8226            0    FF145300  HORENTJES VOLKOREN STANDAARD   RunTime   \n",
       "8227            0    FF145300  HORENTJES VOLKOREN STANDAARD  DownTime   \n",
       "8228            0    FF029101   MACARONI KORT AS 1,1% DURUM  DownTime   \n",
       "8229            0    FF029101   MACARONI KORT AS 1,1% DURUM   RunTime   \n",
       "8230            0    FF029101   MACARONI KORT AS 1,1% DURUM  DownTime   \n",
       "8231            0    000000EU                          NONE     Break   \n",
       "8232            0    FF025305                 HORENTJES KDO  DownTime   \n",
       "8233            0    FF025305                 HORENTJES KDO   RunTime   \n",
       "8234  NewDownTime    FF025305                 HORENTJES KDO  DownTime   \n",
       "8235            0    FF025305                 HORENTJES KDO   RunTime   \n",
       "8236            0    FF025305                 HORENTJES KDO  DownTime   \n",
       "8237            0    FF025305                 HORENTJES KDO   RunTime   \n",
       "8238            0    FF025305                 HORENTJES KDO  DownTime   \n",
       "8239            0    FF025305                 HORENTJES KDO   RunTime   \n",
       "8240            0    FF025305                 HORENTJES KDO  DownTime   \n",
       "\n",
       "      Quantity  \n",
       "0        30000  \n",
       "1        30000  \n",
       "2        30000  \n",
       "3        30000  \n",
       "4        30000  \n",
       "5        30000  \n",
       "6            0  \n",
       "7        30000  \n",
       "8        30000  \n",
       "9        30000  \n",
       "10       30000  \n",
       "11       30000  \n",
       "12       30000  \n",
       "13       30000  \n",
       "14           0  \n",
       "15       30000  \n",
       "16       30000  \n",
       "17       30000  \n",
       "18       30000  \n",
       "19       30000  \n",
       "20       30000  \n",
       "21       30000  \n",
       "22           0  \n",
       "23       30000  \n",
       "24       30000  \n",
       "25       30000  \n",
       "26       30000  \n",
       "27       30000  \n",
       "28       30000  \n",
       "29           0  \n",
       "...        ...  \n",
       "8211     60000  \n",
       "8212     40000  \n",
       "8213     40000  \n",
       "8214     40000  \n",
       "8215     40000  \n",
       "8216     40000  \n",
       "8217     40000  \n",
       "8218         0  \n",
       "8219     40000  \n",
       "8220     40000  \n",
       "8221     40000  \n",
       "8222     40000  \n",
       "8223     40000  \n",
       "8224     40000  \n",
       "8225     40000  \n",
       "8226     40000  \n",
       "8227     40000  \n",
       "8228     40000  \n",
       "8229     40000  \n",
       "8230     40000  \n",
       "8231         0  \n",
       "8232     45000  \n",
       "8233     45000  \n",
       "8234     45000  \n",
       "8235     45000  \n",
       "8236     45000  \n",
       "8237     45000  \n",
       "8238     45000  \n",
       "8239     45000  \n",
       "8240     45000  \n",
       "\n",
       "[8241 rows x 12 columns]"
      ]
     },
     "execution_count": 4,
     "metadata": {},
     "output_type": "execute_result"
    }
   ],
   "source": [
    "df.ArticleName = df.ArticleName.str.upper()\n",
    "df"
   ]
  },
  {
   "cell_type": "markdown",
   "metadata": {},
   "source": [
    "### Statistics"
   ]
  },
  {
   "cell_type": "code",
   "execution_count": 5,
   "metadata": {},
   "outputs": [
    {
     "data": {
      "text/html": [
       "<div>\n",
       "<style scoped>\n",
       "    .dataframe tbody tr th:only-of-type {\n",
       "        vertical-align: middle;\n",
       "    }\n",
       "\n",
       "    .dataframe tbody tr th {\n",
       "        vertical-align: top;\n",
       "    }\n",
       "\n",
       "    .dataframe thead th {\n",
       "        text-align: right;\n",
       "    }\n",
       "</style>\n",
       "<table border=\"1\" class=\"dataframe\">\n",
       "  <thead>\n",
       "    <tr style=\"text-align: right;\">\n",
       "      <th></th>\n",
       "      <th></th>\n",
       "      <th>Duration</th>\n",
       "    </tr>\n",
       "    <tr>\n",
       "      <th>ReasonId</th>\n",
       "      <th>Type</th>\n",
       "      <th></th>\n",
       "    </tr>\n",
       "  </thead>\n",
       "  <tbody>\n",
       "    <tr>\n",
       "      <th>0</th>\n",
       "      <th>Break</th>\n",
       "      <td>1.123825e+07</td>\n",
       "    </tr>\n",
       "    <tr>\n",
       "      <th rowspan=\"2\" valign=\"top\">1</th>\n",
       "      <th>DownTime</th>\n",
       "      <td>4.365920e+05</td>\n",
       "    </tr>\n",
       "    <tr>\n",
       "      <th>RunTime</th>\n",
       "      <td>3.711478e+07</td>\n",
       "    </tr>\n",
       "    <tr>\n",
       "      <th>2</th>\n",
       "      <th>DownTime</th>\n",
       "      <td>2.658000e+03</td>\n",
       "    </tr>\n",
       "    <tr>\n",
       "      <th>3</th>\n",
       "      <th>DownTime</th>\n",
       "      <td>2.712250e+05</td>\n",
       "    </tr>\n",
       "    <tr>\n",
       "      <th>5</th>\n",
       "      <th>DownTime</th>\n",
       "      <td>2.409185e+06</td>\n",
       "    </tr>\n",
       "    <tr>\n",
       "      <th>7</th>\n",
       "      <th>DownTime</th>\n",
       "      <td>1.598534e+06</td>\n",
       "    </tr>\n",
       "    <tr>\n",
       "      <th>8</th>\n",
       "      <th>DownTime</th>\n",
       "      <td>3.726380e+05</td>\n",
       "    </tr>\n",
       "    <tr>\n",
       "      <th>9</th>\n",
       "      <th>DownTime</th>\n",
       "      <td>5.050800e+05</td>\n",
       "    </tr>\n",
       "    <tr>\n",
       "      <th>10</th>\n",
       "      <th>DownTime</th>\n",
       "      <td>1.235217e+06</td>\n",
       "    </tr>\n",
       "    <tr>\n",
       "      <th>11</th>\n",
       "      <th>DownTime</th>\n",
       "      <td>3.640564e+06</td>\n",
       "    </tr>\n",
       "  </tbody>\n",
       "</table>\n",
       "</div>"
      ],
      "text/plain": [
       "                       Duration\n",
       "ReasonId Type                  \n",
       "0        Break     1.123825e+07\n",
       "1        DownTime  4.365920e+05\n",
       "         RunTime   3.711478e+07\n",
       "2        DownTime  2.658000e+03\n",
       "3        DownTime  2.712250e+05\n",
       "5        DownTime  2.409185e+06\n",
       "7        DownTime  1.598534e+06\n",
       "8        DownTime  3.726380e+05\n",
       "9        DownTime  5.050800e+05\n",
       "10       DownTime  1.235217e+06\n",
       "11       DownTime  3.640564e+06"
      ]
     },
     "execution_count": 5,
     "metadata": {},
     "output_type": "execute_result"
    }
   ],
   "source": [
    "df.groupby(['ReasonId', 'Type']).agg({'Duration': 'sum'})"
   ]
  },
  {
   "cell_type": "code",
   "execution_count": 6,
   "metadata": {},
   "outputs": [
    {
     "data": {
      "text/plain": [
       "Text(-1,0.5,'t[s]')"
      ]
     },
     "execution_count": 6,
     "metadata": {},
     "output_type": "execute_result"
    },
    {
     "data": {
      "image/png": "[encoded data removed]",
      "text/plain": [
       "<matplotlib.figure.Figure at 0x2347ee4e358>"
      ]
     },
     "metadata": {},
     "output_type": "display_data"
    }
   ],
   "source": [
    "# Show a plot of the downtime per reason\n",
    "df[df['Type']=='DownTime'].groupby(['ReasonId']).agg({'Duration': 'sum'}).plot.bar(subplots=True)\n",
    "plt.title('\"{}\", Total Duration by ReasonId'.format(filename))\n",
    "plt.savefig('D:/temp/overview.png', dpi=300, bbox_inches='tight')\n",
    "plt.ylabel('t[s]')"
   ]
  },
  {
   "cell_type": "code",
   "execution_count": null,
   "metadata": {},
   "outputs": [],
   "source": []
  },
  {
   "cell_type": "markdown",
   "metadata": {},
   "source": [
    "# Downtime probability"
   ]
  },
  {
   "cell_type": "code",
   "execution_count": 7,
   "metadata": {},
   "outputs": [],
   "source": [
    "from probdist import duration_between_downtime\n",
    "bool_up = (df.Type == 'RunTime') # List of all RunTimes\n",
    "bool_down = (df.Type.isin(['DownTime', 'Break'])) & (df.ReasonId.isin(reasons_considered)) # List of all DownTimes in calculation\n",
    "bool_ignore = (df.Type.isin(['DownTime', 'Break'])) & (df.ReasonId.isin(reasons_to_ignore)) # List of all breaks to ignore\n",
    "bool_break = (df.Type.isin(['DownTime', 'Break'])) & (df.ReasonId.isin(reasons_to_break)) # List of all breaks to stop observation\n",
    "# Will ignore types of DownTimes not in the list\n",
    "#duration = duration_between_downtime(list(df.Duration), list(bool_up), list(bool_down))\n",
    "#duration.head()\n",
    "#len(duration)\n",
    "assert(bool((bool_up ^ bool_down ^ bool_ignore ^ bool_break).unique()) == True)"
   ]
  },
  {
   "cell_type": "code",
   "execution_count": 8,
   "metadata": {},
   "outputs": [],
   "source": [
    "# duration = duration / 3600 # go to hours\n",
    "# duration.head()"
   ]
  },
  {
   "cell_type": "code",
   "execution_count": 9,
   "metadata": {},
   "outputs": [],
   "source": [
    "# from probdist import duration_of_downtime\n",
    "# downtimes = (df.Type == 'DownTime') & (df.ReasonId.isin(reasons_considered))\n",
    "# dtduration = duration_of_downtime(list(df.Duration), list(bool_up), list(bool_down)) / 3600\n",
    "# len(dtduration)\n",
    "# dtduration.head()"
   ]
  },
  {
   "cell_type": "code",
   "execution_count": 10,
   "metadata": {},
   "outputs": [
    {
     "data": {
      "text/plain": [
       "(817, 817, 817, 817)"
      ]
     },
     "execution_count": 10,
     "metadata": {},
     "output_type": "execute_result"
    }
   ],
   "source": [
    "from probdist import duration_run_down\n",
    "runtime, downtime, obs_run, obs_down = duration_run_down(list(df.Duration / 3600), list(bool_up), list(bool_down),\n",
    "                                                           list(bool_ignore), list(bool_break), observation=True)\n",
    "len(runtime), len(downtime), len(obs_run), len(obs_down)"
   ]
  },
  {
   "cell_type": "code",
   "execution_count": 11,
   "metadata": {},
   "outputs": [
    {
     "data": {
      "text/plain": [
       "0    True\n",
       "1    True\n",
       "2    True\n",
       "3    True\n",
       "4    True\n",
       "dtype: bool"
      ]
     },
     "execution_count": 11,
     "metadata": {},
     "output_type": "execute_result"
    }
   ],
   "source": [
    "obs_down.head()"
   ]
  },
  {
   "cell_type": "code",
   "execution_count": 12,
   "metadata": {},
   "outputs": [
    {
     "name": "stdout",
     "output_type": "stream",
     "text": [
      "          Times\n",
      "Observed       \n",
      "1.0         817\n"
     ]
    }
   ],
   "source": [
    "dt = pd.DataFrame([runtime, obs_run], index=['Times', 'Observed']).T\n",
    "dt.to_excel(filename.split('.')[0] + '_runtimes.xls', index=False)\n",
    "print(dt.groupby('Observed').count())"
   ]
  },
  {
   "cell_type": "code",
   "execution_count": 13,
   "metadata": {},
   "outputs": [
    {
     "name": "stdout",
     "output_type": "stream",
     "text": [
      "          Times\n",
      "Observed       \n",
      "1.0         817\n"
     ]
    }
   ],
   "source": [
    "dt = pd.DataFrame([downtime, obs_down], index=['Times', 'Observed']).T\n",
    "dt.to_excel(filename.split('.')[0] + '_downtimes.xls', index=False)\n",
    "print(dt.groupby('Observed').count())"
   ]
  },
  {
   "cell_type": "markdown",
   "metadata": {},
   "source": [
    "## Some measures in practice"
   ]
  },
  {
   "cell_type": "code",
   "execution_count": 14,
   "metadata": {},
   "outputs": [],
   "source": [
    "# mean hourly failure rate\n",
    "# MLE = len(runtime)/np.sum(runtime)"
   ]
  },
  {
   "cell_type": "code",
   "execution_count": 15,
   "metadata": {},
   "outputs": [],
   "source": [
    "# print('List of reasons considered:', reasons_considered)\n",
    "# # Mean time between failures MTBF\n",
    "# MTBF_pract = 1/MLE\n",
    "# print('Mean Time Between Failures {:.3} hours'.format(MTBF_pract))\n",
    "# #lamb = MLE\n",
    "# #print('Lambda: {:.3e} /hour'.format(lamb))"
   ]
  },
  {
   "cell_type": "markdown",
   "metadata": {},
   "source": [
    "### Fit using Kaplan-Meier (piecewise)"
   ]
  },
  {
   "cell_type": "code",
   "execution_count": 16,
   "metadata": {},
   "outputs": [],
   "source": [
    "from lifelines import KaplanMeierFitter\n",
    "kmf = KaplanMeierFitter()"
   ]
  },
  {
   "cell_type": "code",
   "execution_count": 17,
   "metadata": {},
   "outputs": [
    {
     "data": {
      "text/plain": [
       "<lifelines.KaplanMeierFitter: fitted with 817 observations, 0 censored>"
      ]
     },
     "execution_count": 17,
     "metadata": {},
     "output_type": "execute_result"
    }
   ],
   "source": [
    "kmf.fit(runtime, event_observed=obs_run)"
   ]
  },
  {
   "cell_type": "code",
   "execution_count": 18,
   "metadata": {},
   "outputs": [
    {
     "data": {
      "text/plain": [
       "<matplotlib.axes._subplots.AxesSubplot at 0x23404149ac8>"
      ]
     },
     "execution_count": 18,
     "metadata": {},
     "output_type": "execute_result"
    },
    {
     "data": {
      "image/png": "[encoded data removed]",
      "text/plain": [
       "<matplotlib.figure.Figure at 0x2340415d320>"
      ]
     },
     "metadata": {},
     "output_type": "display_data"
    }
   ],
   "source": [
    "kmf.survival_function_.plot()"
   ]
  },
  {
   "cell_type": "code",
   "execution_count": 19,
   "metadata": {},
   "outputs": [
    {
     "data": {
      "text/plain": [
       "<matplotlib.axes._subplots.AxesSubplot at 0x234041be7b8>"
      ]
     },
     "execution_count": 19,
     "metadata": {},
     "output_type": "execute_result"
    },
    {
     "data": {
      "image/png": "[encoded data removed]",
      "text/plain": [
       "<matplotlib.figure.Figure at 0x23404176860>"
      ]
     },
     "metadata": {},
     "output_type": "display_data"
    }
   ],
   "source": [
    "kmf.plot(show_censors=True, censor_styles={'ms': 2, 'marker': 'o'})"
   ]
  },
  {
   "cell_type": "code",
   "execution_count": 20,
   "metadata": {},
   "outputs": [
    {
     "name": "stdout",
     "output_type": "stream",
     "text": [
      "<lifelines.WeibullFitter: fitted with 817 observations, 0 censored>\n",
      "number of subjects = 817\n",
      "  number of events = 817\n",
      "    log-likelihood = -2426.577\n",
      "        hypothesis = lambda_ != 1, rho_ != 1\n",
      "\n",
      "---\n",
      "         coef  se(coef)  lower 0.95  upper 0.95      p  -log2(p)\n",
      "lambda_  6.53      0.50        5.55        7.51 <0.005     92.06\n",
      "rho_     0.48      0.01        0.45        0.51 <0.005       inf\n"
     ]
    },
    {
     "data": {
      "text/plain": [
       "<matplotlib.axes._subplots.AxesSubplot at 0x2340422c8d0>"
      ]
     },
     "execution_count": 20,
     "metadata": {},
     "output_type": "execute_result"
    },
    {
     "data": {
      "image/png": "[encoded data removed]",
      "text/plain": [
       "<matplotlib.figure.Figure at 0x234042101d0>"
      ]
     },
     "metadata": {},
     "output_type": "display_data"
    }
   ],
   "source": [
    "from lifelines import WeibullFitter\n",
    "wf = WeibullFitter().fit(runtime, event_observed=obs_run)\n",
    "\n",
    "wf.print_summary()\n",
    "wf.plot()"
   ]
  },
  {
   "cell_type": "code",
   "execution_count": 21,
   "metadata": {},
   "outputs": [],
   "source": [
    "# dir(wf)"
   ]
  },
  {
   "cell_type": "code",
   "execution_count": 22,
   "metadata": {},
   "outputs": [
    {
     "data": {
      "text/plain": [
       "[<matplotlib.lines.Line2D at 0x234042b5198>]"
      ]
     },
     "execution_count": 22,
     "metadata": {},
     "output_type": "execute_result"
    },
    {
     "data": {
      "image/png": "[encoded data removed]",
      "text/plain": [
       "<matplotlib.figure.Figure at 0x234042715f8>"
      ]
     },
     "metadata": {},
     "output_type": "display_data"
    }
   ],
   "source": [
    "plt.plot(wf.survival_function_)"
   ]
  },
  {
   "cell_type": "code",
   "execution_count": 23,
   "metadata": {},
   "outputs": [
    {
     "name": "stdout",
     "output_type": "stream",
     "text": [
      "<lifelines.WeibullFitter: fitted with 817 observations, 0 censored>\n",
      "number of subjects = 817\n",
      "  number of events = 817\n",
      "    log-likelihood = -2426.577\n",
      "        hypothesis = lambda_ != 1, rho_ != 1\n",
      "\n",
      "---\n",
      "         coef  se(coef)  lower 0.95  upper 0.95      p  -log2(p)\n",
      "lambda_  6.53      0.50        5.55        7.51 <0.005     92.06\n",
      "rho_     0.48      0.01        0.45        0.51 <0.005       inf\n",
      "<lifelines.ExponentialFitter: fitted with 817 observations, 0 censored>\n",
      "number of subjects = 817\n",
      "  number of events = 817\n",
      "    log-likelihood = -2888.241\n",
      "        hypothesis = lambda_ != 1\n",
      "\n",
      "---\n",
      "         coef  se(coef)  lower 0.95  upper 0.95    p  -log2(p)\n",
      "lambda_ 12.62     28.58      -43.40       68.64 0.68      0.55\n",
      "<lifelines.LogNormalFitter: fitted with 817 observations, 0 censored>\n",
      "number of subjects = 817\n",
      "  number of events = 817\n",
      "    log-likelihood = -2474.423\n",
      "        hypothesis = mu_ != 0, sigma_ != 1\n",
      "\n",
      "---\n",
      "        coef  se(coef)  lower 0.95  upper 0.95      p  -log2(p)\n",
      "mu_     0.65      0.09        0.47        0.83 <0.005     39.24\n",
      "sigma_  2.62      0.06        2.49        2.74 <0.005    455.08\n",
      "<lifelines.LogLogisticFitter: fitted with 817 observations, 0 censored>\n",
      "number of subjects = 817\n",
      "  number of events = 817\n",
      "    log-likelihood = -2498.129\n",
      "        hypothesis = alpha_ != 1, beta_ != 1\n",
      "\n",
      "---\n",
      "        coef  se(coef)  lower 0.95  upper 0.95      p  -log2(p)\n",
      "alpha_  2.33      0.22        1.89        2.77 <0.005     28.28\n",
      "beta_   0.65      0.02        0.61        0.68 <0.005    270.81\n",
      "<lifelines.PiecewiseExponentialFitter: fitted with 817 observations, 0 censored>\n",
      "number of subjects = 817\n",
      "  number of events = 817\n",
      "    log-likelihood = -2875.755\n",
      "        hypothesis = lambda_0_ != 1, lambda_1_ != 1, lambda_2_ != 1\n",
      "\n",
      "---\n",
      "           coef  se(coef)  lower 0.95  upper 0.95      p  -log2(p)\n",
      "lambda_0_ 11.80      0.44       10.94       12.65 <0.005    448.36\n",
      "lambda_1_ 17.89      2.43       13.12       22.65 <0.005     37.93\n",
      "lambda_2_ 23.52      4.35       15.00       32.04 <0.005     22.12\n"
     ]
    },
    {
     "data": {
      "text/plain": [
       "<matplotlib.axes._subplots.AxesSubplot at 0x234044286d8>"
      ]
     },
     "execution_count": 23,
     "metadata": {},
     "output_type": "execute_result"
    },
    {
     "data": {
      "image/png": "[encoded data removed]",
      "text/plain": [
       "<matplotlib.figure.Figure at 0x23403f4c358>"
      ]
     },
     "metadata": {},
     "output_type": "display_data"
    }
   ],
   "source": [
    "from lifelines import WeibullFitter, ExponentialFitter, LogNormalFitter, NelsonAalenFitter, LogLogisticFitter, PiecewiseExponentialFitter\n",
    "wbf = WeibullFitter().fit(runtime, obs_run, label='WeibullFitter')\n",
    "wbf.print_summary()\n",
    "exf = ExponentialFitter().fit(runtime, obs_run, label='ExponentalFitter')\n",
    "exf.print_summary()\n",
    "lnf = LogNormalFitter().fit(runtime, obs_run, label='LogNormalFitter')\n",
    "lnf.print_summary()\n",
    "naf = NelsonAalenFitter().fit(runtime, obs_run, label='NelsonAalenFitter')\n",
    "#naf.print_summary()\n",
    "llf = LogLogisticFitter().fit(runtime, obs_run, label='LogLogisticFitter')\n",
    "llf.print_summary()\n",
    "pwf = PiecewiseExponentialFitter([40, 60]).fit(runtime, obs_run, label='PiecewiseExponentialFitter')\n",
    "pwf.print_summary()\n",
    "\n",
    "fig, axes = plt.subplots(2, 3, figsize=(9, 5))\n",
    "\n",
    "\n",
    "\n",
    "wbf.plot_cumulative_hazard(ax=axes[0][0])\n",
    "exf.plot_cumulative_hazard(ax=axes[0][1])\n",
    "lnf.plot_cumulative_hazard(ax=axes[0][2])\n",
    "naf.plot_cumulative_hazard(ax=axes[1][0])\n",
    "llf.plot_cumulative_hazard(ax=axes[1][1])\n",
    "pwf.plot_cumulative_hazard(ax=axes[1][2])"
   ]
  },
  {
   "cell_type": "code",
   "execution_count": null,
   "metadata": {},
   "outputs": [],
   "source": []
  },
  {
   "cell_type": "code",
   "execution_count": 24,
   "metadata": {},
   "outputs": [
    {
     "name": "stdout",
     "output_type": "stream",
     "text": [
      "This is a Weibull distribution with alpha 13.8 and beta 0.816\n",
      "This results in a decreasing failure rate\n"
     ]
    },
    {
     "data": {
      "image/png": "[encoded data removed]",
      "text/plain": [
       "<matplotlib.figure.Figure at 0x2340429f588>"
      ]
     },
     "metadata": {},
     "output_type": "display_data"
    }
   ],
   "source": [
    "from probdist import _determine_exp_or_weibull, durations_to_hist\n",
    "normhist, c_reliable = durations_to_hist(runtime)\n",
    "value1, value2, dist = _determine_exp_or_weibull(normhist, c_reliable)"
   ]
  },
  {
   "cell_type": "code",
   "execution_count": 25,
   "metadata": {},
   "outputs": [
    {
     "data": {
      "text/plain": [
       "'weibull'"
      ]
     },
     "execution_count": 25,
     "metadata": {},
     "output_type": "execute_result"
    }
   ],
   "source": [
    "dist"
   ]
  },
  {
   "cell_type": "markdown",
   "metadata": {},
   "source": [
    "### Sample MTBF"
   ]
  },
  {
   "cell_type": "code",
   "execution_count": 26,
   "metadata": {},
   "outputs": [
    {
     "data": {
      "text/plain": [
       "817"
      ]
     },
     "execution_count": 26,
     "metadata": {},
     "output_type": "execute_result"
    }
   ],
   "source": [
    "len(runtime[obs_run == True])"
   ]
  },
  {
   "cell_type": "code",
   "execution_count": 27,
   "metadata": {},
   "outputs": [
    {
     "data": {
      "text/plain": [
       "12.618687610499116"
      ]
     },
     "execution_count": 27,
     "metadata": {},
     "output_type": "execute_result"
    }
   ],
   "source": [
    "MTBF_pract = runtime[obs_run == True].mean()\n",
    "MTBF_pract"
   ]
  },
  {
   "cell_type": "code",
   "execution_count": 28,
   "metadata": {},
   "outputs": [],
   "source": [
    "# def exp_function(lamb, duration):\n",
    "#     value = len(duration) * np.log(lamb) - lamb * np.sum(duration)\n",
    "#     print('S', value)\n",
    "#     return value\n",
    "\n",
    "# def d_exp_function(lamb, duration):\n",
    "#     n = len(duration)\n",
    "#     print(n/lamb - np.sum(duration))\n",
    "#     return n/lamb - np.sum(duration)"
   ]
  },
  {
   "cell_type": "markdown",
   "metadata": {},
   "source": [
    "## Suppose exponential"
   ]
  },
  {
   "cell_type": "code",
   "execution_count": 29,
   "metadata": {},
   "outputs": [],
   "source": [
    "# Plot probability\n",
    "# From book Reliability engineering (A. Bilolini):\n",
    "# If the item has a value lambda which is time-invariant\n",
    "# lambda: failure rate during the useful life\n",
    "# R(t) = 1-F(t) = exp(-lambda * t) # cumulative reliability density function\n",
    "# F(t) = 1 - exp(-lambda * t) # cumulative failure density function\n",
    "# Consider lambda time-independent first\n",
    "# MTBF (Mean Time Between Failures) = 1/lambda\n",
    "# lambda can also be found as the statistical estimate MTBF = T / k = 1 / lambda\n",
    "# so lambda = k / T"
   ]
  },
  {
   "cell_type": "code",
   "execution_count": 30,
   "metadata": {},
   "outputs": [],
   "source": [
    "if dist == 'exp':\n",
    "    # Import home-made library\n",
    "    from probdist import Exponential\n",
    "    # Example scipy library\n",
    "    #exp = Exponential.from_durations(runtime)\n",
    "    #print(exp)\n",
    "    # Example scipy library\n",
    "    #exp = Exponential.from_durations2(runtime)\n",
    "    #print(exp)\n",
    "    from lifelines import ExponentialFitter\n",
    "    exf = ExponentialFitter()\n",
    "    exf.fit(runtime, cens_run)\n",
    "    print(exf.lambda_)\n",
    "    exp = Exponential(1/exf.lambda_)"
   ]
  },
  {
   "cell_type": "code",
   "execution_count": 31,
   "metadata": {},
   "outputs": [],
   "source": [
    "if dist == 'exp':\n",
    "    # Theoretical Mean Time Between Failures\n",
    "    print('MTBF:', exp.mean_time())"
   ]
  },
  {
   "cell_type": "code",
   "execution_count": 32,
   "metadata": {},
   "outputs": [],
   "source": [
    "if dist == 'exp':\n",
    "    #Filter the duration\n",
    "    maxt = np.percentile(np.array(runtime), cutoff_perc)\n",
    "    mint = 0\n",
    "    #duration = duration[duration.between(mint, maxt)]"
   ]
  },
  {
   "cell_type": "code",
   "execution_count": 33,
   "metadata": {},
   "outputs": [],
   "source": [
    "if dist == 'exp':\n",
    "    # Book Reliability and Safety Engineering, suggested number of bins, page 61\n",
    "    # Sturges' rule for grouping data\n",
    "    numbins = int(np.round(1 + 3.3 * np.log10(len(runtime))))\n",
    "    print(numbins)"
   ]
  },
  {
   "cell_type": "code",
   "execution_count": 34,
   "metadata": {},
   "outputs": [],
   "source": [
    "# from scipy.stats import chi2\n",
    "\n",
    "# p = np.array([0.95, 0.05])\n",
    "# n = len(runtime)\n",
    "# T = np.sum(runtime)\n",
    "\n",
    "# lambdas = lambda_low, lambda_high = chi2.isf(p, n)/(T)\n",
    "# MTBFs = 1/lambdas"
   ]
  },
  {
   "cell_type": "code",
   "execution_count": 35,
   "metadata": {},
   "outputs": [],
   "source": [
    "# exps = exp_low, exp_high = Exponential(lambda_low), Exponential(lambda_high)\n",
    "# exps"
   ]
  },
  {
   "cell_type": "code",
   "execution_count": 36,
   "metadata": {
    "scrolled": true
   },
   "outputs": [],
   "source": [
    "if dist == 'exp':\n",
    "    from probdist import make_hist_frame\n",
    "    df_hist, ran = make_hist_frame(runtime, cens_run, numbins=numbins, range=(mint, maxt), return_bins=True)\n",
    "    c_fail = df_hist['FailCDF']\n",
    "    p_fail = df_hist['Failures']/len(runtime)\n",
    "    plt.figure(figsize=(10,5))\n",
    "    x = np.linspace(0, maxt, numbins)\n",
    "    plt.bar(ran[:-1] + (ran[1]-ran[0])/2, p_fail, width=ran[1]-ran[0], edgecolor='k')\n",
    "    plt.bar(ran[:-1] + (ran[1]-ran[0])/2, c_fail, width=ran[1]-ran[0], alpha=0.1, edgecolor='k')\n",
    "    plt.title('Failure function F(t)')\n",
    "    plt.xlabel('Time between failures [hours]')\n",
    "\n",
    "    t = np.linspace(mint, maxt + (maxt-mint)/numbins, 100)\n",
    "    plt.plot(t, exp.failure_cdf(t), 'r', label= r'$\\lambda$: {:.3}'.format(exp.lamb))\n",
    "    ax = plt.gca()\n",
    "    # ax.fill_between(t, exp_low.failure_cdf(t), exp_high.failure_cdf(t), alpha=0.3, color='r', zorder=3)\n",
    "    plt.legend()\n",
    "    plt.savefig('D:/temp/temp.png', dpi=300, layout='bbox_inches_tight')"
   ]
  },
  {
   "cell_type": "code",
   "execution_count": 37,
   "metadata": {},
   "outputs": [],
   "source": [
    "#from scipy.stats import chisquare\n",
    "#exp_list = []\n",
    "#nsamples = len(duration)\n",
    "#for i in range(len(hist)):\n",
    "#    exprate = (exp.failure_cdf(bin_edges[i+1]) - exp.failure_cdf(bin_edges[i])) * nsamples\n",
    "#    exp_list.append(exprate)\n",
    "#chisquare(hist, exp_list, ddof=3)"
   ]
  },
  {
   "cell_type": "code",
   "execution_count": 38,
   "metadata": {},
   "outputs": [],
   "source": [
    "# totalvariance = 0\n",
    "# for i in range(len(hist)):\n",
    "#     exprate = exp.failure_cdf(bin_edges[i+1]) - exp.failure_cdf(bin_edges[i])\n",
    "#     realrate = normhist[i]\n",
    "#     #print(exprate, realrate)\n",
    "#     var = (exprate - realrate)**2\n",
    "#     totalvariance += var\n",
    "# totalvariance = totalvariance / len(hist)\n",
    "# totalvariance"
   ]
  },
  {
   "cell_type": "code",
   "execution_count": 39,
   "metadata": {},
   "outputs": [],
   "source": [
    "if dist == 'exp':\n",
    "    t = np.linspace(np.min(ran), np.max(ran), 100)\n",
    "    plt.subplot(2,1,1)\n",
    "    plt.bar(ran[:-1] + (ran[1]-ran[0])/2, df_hist['FailPDF'] , width=ran[1]-ran[0], edgecolor='k')\n",
    "    plt.plot(t, exp.failure_pdf(t), 'k')\n",
    "    plt.title('Failure probability density function')\n",
    "    plt.ylabel('f(t)')\n",
    "    plt.subplot(2,1,2)\n",
    "\n",
    "    plt.subplot(2,1,2)\n",
    "    plt.bar(ran[:-1] + (ran[1]-ran[0])/2, df_hist['Hazard'] , width=ran[1]-ran[0], edgecolor='k')\n",
    "    plt.plot(t, exp.hazard_pdf(t), 'k')\n",
    "    plt.title('Hazard rate density function')\n",
    "    plt.ylabel('h(t)')\n",
    "    plt.tight_layout()\n",
    "    #plt.savefig('test4.png', dpi=300, layout='tight')\n",
    "    plt.show()"
   ]
  },
  {
   "cell_type": "code",
   "execution_count": 40,
   "metadata": {},
   "outputs": [],
   "source": [
    "#def chi_squared_test(duration, model):\n",
    "#    nsamples = len(duration)\n",
    "#    cutoff_perc = 99\n",
    "#    maxt = np.percentile(np.array(duration), cutoff_perc)\n",
    "#    mint = 0\n",
    "#    numbins = int(np.round(1 + 3.3 * np.log10(len(duration))))\n",
    "#    hist, bin_edges = np.histogram(np.array(duration), bins=numbins, range=(mint, maxt))\n",
    "#    chi_sq = 0\n",
    "#    for i in range(len(hist)):\n",
    "#        obs = hist[i]\n",
    "#        exp = (model.failure_cdf(bin_edges[i+1]) - model.failure_cdf(bin_edges[i])) * nsamples\n",
    "#        chi_sq += (obs-exp)**2 / exp\n",
    "#        #print(chi_sq)\n",
    "#    return chi_sq, numbins"
   ]
  },
  {
   "cell_type": "code",
   "execution_count": 41,
   "metadata": {},
   "outputs": [],
   "source": [
    "#value, ddof = chi_squared_test(duration, exp)\n",
    "#chi2.cdf(value, ddof)"
   ]
  },
  {
   "cell_type": "markdown",
   "metadata": {},
   "source": [
    "## Suppose Weibull distribution"
   ]
  },
  {
   "cell_type": "code",
   "execution_count": 42,
   "metadata": {},
   "outputs": [],
   "source": [
    "# if dist == 'weibull':\n",
    "#     from probdist import Weibull\n",
    "#     weib = Weibull.from_durations(runtime)\n",
    "#     #alpha, beta = determine_weibull(bin_edges[1:], 1-c_fail)\n",
    "#     print(weib)"
   ]
  },
  {
   "cell_type": "code",
   "execution_count": 43,
   "metadata": {},
   "outputs": [],
   "source": [
    "# from probdist import Weibull\n",
    "# weib = Weibull.from_durations2(runtime)\n",
    "# #alpha, beta = determine_weibull(bin_edges[1:], 1-c_fail)\n",
    "# weib"
   ]
  },
  {
   "cell_type": "code",
   "execution_count": 44,
   "metadata": {},
   "outputs": [
    {
     "name": "stdout",
     "output_type": "stream",
     "text": [
      "6.528174396573895 0.4812908415933308\n"
     ]
    }
   ],
   "source": [
    "if dist == 'weibull':\n",
    "    from lifelines import WeibullFitter\n",
    "    from probdist import Weibull\n",
    "    wf = WeibullFitter()\n",
    "    wf.fit(runtime, obs_run)\n",
    "    print(wf.lambda_, wf.rho_)\n",
    "    weib = Weibull(wf.lambda_, wf.rho_)"
   ]
  },
  {
   "cell_type": "code",
   "execution_count": 45,
   "metadata": {},
   "outputs": [
    {
     "data": {
      "text/plain": [
       "3.0483689280643755"
      ]
     },
     "execution_count": 45,
     "metadata": {},
     "output_type": "execute_result"
    }
   ],
   "source": [
    "wf.median_\n",
    "weib.median()"
   ]
  },
  {
   "cell_type": "code",
   "execution_count": 46,
   "metadata": {},
   "outputs": [
    {
     "name": "stdout",
     "output_type": "stream",
     "text": [
      "Practice: 12.618687610499116\n"
     ]
    }
   ],
   "source": [
    "print('Practice:', MTBF_pract)"
   ]
  },
  {
   "cell_type": "code",
   "execution_count": 47,
   "metadata": {},
   "outputs": [
    {
     "name": "stdout",
     "output_type": "stream",
     "text": [
      "Theory: 14.04404903162521\n"
     ]
    }
   ],
   "source": [
    "from scipy.special import gamma\n",
    "MTBF = weib.mean_time()\n",
    "#MTBF = weib.alpha * gamma(1/weib.beta + 1)\n",
    "print('Theory:', MTBF) # from model"
   ]
  },
  {
   "cell_type": "code",
   "execution_count": 48,
   "metadata": {},
   "outputs": [],
   "source": [
    "# from scipy.stats import norm\n",
    "# vals = norm.ppf([0.95, 0.05])\n",
    "# print(vals)\n",
    "# beta = weib.beta\n",
    "# theta = weib.alpha\n",
    "# n = len(duration)\n",
    "# betas = beta_low, beta_high = beta*np.exp(-0.78*vals/np.sqrt(n))\n",
    "# print(betas)\n",
    "# alphas = alpha_low, alpha_high = theta*np.exp(-1.05*vals/beta/np.sqrt(n))\n",
    "# print(alphas)"
   ]
  },
  {
   "cell_type": "code",
   "execution_count": 49,
   "metadata": {},
   "outputs": [],
   "source": [
    "# weibs = weib_low, weib_high = Weibull(alpha_low, beta_high), Weibull(alpha_high, beta_low)\n",
    "# weibs"
   ]
  },
  {
   "cell_type": "code",
   "execution_count": 50,
   "metadata": {},
   "outputs": [],
   "source": [
    "# plt.plot(ran[1:-1], lambdas[:-1], label='real data') # = lambda * y + c\n",
    "# #plt.title('Linear plot with slope {:.3} and intercept {:.3}'.format(slope, intercept))\n",
    "# #plt.plot(ran[1:-1], slope * ran[1:-1] + intercept, label='y = {:.3}x + {:.3}'.format(slope, intercept))\n",
    "# plt.legend()"
   ]
  },
  {
   "cell_type": "code",
   "execution_count": 51,
   "metadata": {},
   "outputs": [],
   "source": [
    "# min_mse = np.inf\n",
    "# chosen_lambd = np.nan\n",
    "# for lambd in lambdas:\n",
    "#     mse = 0\n",
    "#     for t, i in zip(bin_edges, range(len(c_fail))):\n",
    "#         # theory\n",
    "#         pred = p_fail(t, lambd)\n",
    "#         # practice\n",
    "#         data = c_fail[i]\n",
    "#         mse += (pred - data) ** 2\n",
    "#     if mse < min_mse:\n",
    "#         #print(mse, '\\t choose', lambd)\n",
    "#         chosen_lambd = lambd\n",
    "#         min_mse = mse\n",
    "# print(chosen_lambd)"
   ]
  },
  {
   "cell_type": "code",
   "execution_count": null,
   "metadata": {},
   "outputs": [],
   "source": []
  },
  {
   "cell_type": "code",
   "execution_count": null,
   "metadata": {},
   "outputs": [],
   "source": []
  },
  {
   "cell_type": "code",
   "execution_count": 52,
   "metadata": {},
   "outputs": [
    {
     "data": {
      "text/plain": [
       "[]"
      ]
     },
     "execution_count": 52,
     "metadata": {},
     "output_type": "execute_result"
    },
    {
     "data": {
      "image/png": "[encoded data removed]",
      "text/plain": [
       "<matplotlib.figure.Figure at 0x234045e15c0>"
      ]
     },
     "metadata": {},
     "output_type": "display_data"
    }
   ],
   "source": [
    "# alpha ~ MTBF only if beta close to 1\n",
    "from probdist import make_hist_frame, sturges_rule\n",
    "\n",
    "numbins = sturges_rule(len(runtime))\n",
    "\n",
    "maxt = np.percentile(np.array(runtime), cutoff_perc)\n",
    "mint = 0\n",
    "\n",
    "df_hist, ran = make_hist_frame(runtime, obs_run, numbins=numbins, range=(mint, maxt), return_bins=True)\n",
    "t = np.linspace(np.min(ran), np.max(ran), 100)\n",
    "plt.figure(figsize=(10,5))\n",
    "x = np.linspace(0, maxt, numbins)\n",
    "c_fail = df_hist['FailCDF']\n",
    "p_fail = df_hist['Failures']/len(runtime)\n",
    "plt.bar(ran[:-1] + (ran[1]-ran[0])/2, p_fail, width=ran[1]-ran[0], edgecolor='k')\n",
    "plt.bar(ran[:-1] + (ran[1]-ran[0])/2, c_fail, width=ran[1]-ran[0], alpha=0.1, edgecolor='k', yerr=df_hist['Std']**(0.5))\n",
    "plt.title('Probability of failure in time')\n",
    "plt.xlabel(r'time (h)')\n",
    "plt.plot(t , weib.failure_cdf(t), 'r', label= r'$\\alpha$: {:.3}, $\\beta$: {:.3}'.format(weib.alpha, weib.beta))\n",
    "ax = plt.gca()\n",
    "#ax.fill_between(t, weib_low.failure_cdf(t), weib_high.failure_cdf(t), alpha=0.3, color='r', zorder=3)\n",
    "kmf.fit(runtime, event_observed=obs_run)\n",
    "plt.plot(1-kmf.survival_function_, color='g', drawstyle=('steps-post'))\n",
    "plt.legend()\n",
    "#plt.savefig('test2.png', dpi=300, layout='tight')\n",
    "plt.plot()"
   ]
  },
  {
   "cell_type": "code",
   "execution_count": 53,
   "metadata": {},
   "outputs": [],
   "source": [
    "##value, ddof = chi_squared_test(duration, weib)\n",
    "#from scipy.signal import chi2\n",
    "#chi2.cdf(value, ddof)"
   ]
  },
  {
   "cell_type": "code",
   "execution_count": 54,
   "metadata": {},
   "outputs": [],
   "source": [
    "#print(value, ddof)"
   ]
  },
  {
   "cell_type": "code",
   "execution_count": 55,
   "metadata": {},
   "outputs": [],
   "source": [
    "# totalvariance = 0\n",
    "# for i in range(len(hist)):\n",
    "#     exprate = weib.failure_cdf(bin_edges[i+1]) - weib.failure_cdf(bin_edges[i])\n",
    "#     realrate = normhist[i]\n",
    "#     #print(exprate, realrate)\n",
    "#     var = (exprate - realrate)**2\n",
    "#     totalvariance += var\n",
    "# totalvariance = totalvariance / len(hist)\n",
    "# totalvariance"
   ]
  },
  {
   "cell_type": "code",
   "execution_count": 56,
   "metadata": {},
   "outputs": [
    {
     "name": "stderr",
     "output_type": "stream",
     "text": [
      "C:\\Users\\jdavid\\Anaconda3\\lib\\site-packages\\matplotlib\\cbook\\deprecation.py:106: MatplotlibDeprecationWarning: Adding an axes using the same arguments as a previous axes currently reuses the earlier instance.  In a future version, a new instance will always be created and returned.  Meanwhile, this warning can be suppressed, and the future behavior ensured, by passing a unique label to each axes instance.\n",
      "  warnings.warn(message, mplDeprecation, stacklevel=1)\n"
     ]
    },
    {
     "data": {
      "image/png": "[encoded data removed]",
      "text/plain": [
       "<matplotlib.figure.Figure at 0x234045f4a90>"
      ]
     },
     "metadata": {},
     "output_type": "display_data"
    }
   ],
   "source": [
    "t = np.linspace(np.min(ran), np.max(ran), 100)\n",
    "plt.subplot(2,1,1)\n",
    "plt.bar(ran[:-1] + (ran[1]-ran[0])/2, df_hist['FailPDF'] , width=ran[1]-ran[0], edgecolor='k')\n",
    "plt.plot(t, weib.failure_pdf(t), 'k')\n",
    "plt.title('Failure probability density function')\n",
    "plt.ylabel('f(t)')\n",
    "plt.subplot(2,1,2)\n",
    "\n",
    "plt.subplot(2,1,2)\n",
    "plt.bar(ran[:-1] + (ran[1]-ran[0])/2, df_hist['Hazard'] , width=ran[1]-ran[0], edgecolor='k')\n",
    "plt.plot(t, weib.hazard_pdf(t), 'k')\n",
    "plt.title('Hazard rate density function')\n",
    "plt.ylabel('h(t)')\n",
    "plt.tight_layout()\n",
    "#plt.savefig('text5.png', dpi=300, bbox_inches='tight')\n",
    "plt.ylim(top=df_hist['Hazard'].max()*1.5)\n",
    "plt.show()"
   ]
  },
  {
   "cell_type": "code",
   "execution_count": 57,
   "metadata": {},
   "outputs": [],
   "source": [
    "# bin_plot = bin_edges\n",
    "# x = np.linspace(0, maxt, numbins)\n",
    "# plt.bar(x+(x[1]-x[0])/2, (hist) / remaining / (ran[1] - ran[0]), width=x[1]-x[0], edgecolor='k')\n",
    "# plt.title('Hazard  rate function H(t)')\n",
    "# plt.ylabel('h(t)')\n",
    "# y = [weibull_hazard(val, alpha, beta) for val in bin_plot]\n",
    "# plt.plot(bin_plot , y, 'r', label= r'\\alpha: {:.3}, \\beta: {:.3}'.format(alpha, beta))"
   ]
  },
  {
   "cell_type": "code",
   "execution_count": 58,
   "metadata": {},
   "outputs": [],
   "source": [
    "# #Chance of failure in the first t hours after defect?\n",
    "# t_wanted = 1\n",
    "\n",
    "# #Practice:\n",
    "# #totalfail = len(runtime)\n",
    "# #total_select = len(runtime[runtime.between(0, t_wanted)])\n",
    "\n",
    "# P = total_select/totalfail\n",
    "# print('Real data:', P)\n",
    "# # Theory:\n",
    "# P = weib.failure_cdf(t_wanted)\n",
    "# print('Simulated data (Weibull):', P)\n",
    "\n",
    "# P = exp.failure_cdf(t_wanted)\n",
    "# print('Simulated data (Exponential):', P)"
   ]
  },
  {
   "cell_type": "code",
   "execution_count": 59,
   "metadata": {},
   "outputs": [],
   "source": [
    "# #Example: Chance of failure between tmin hours and tmax hours?\n",
    "# tmin = 20\n",
    "# tmax = 40\n",
    "\n",
    "# #Practice:\n",
    "# totalfail = len(duration)\n",
    "# total_select = len(duration[duration.between(tmin, tmax)])\n",
    "\n",
    "# P = total_select/totalfail\n",
    "# print('Real data:', P)\n",
    "# # Theory:\n",
    "# P = weib.failure_cdf(tmax) - weib.failure_cdf(tmin)\n",
    "# print('Simulated data (Weibull):', P)\n",
    "\n",
    "# P = exp.failure_cdf(tmax) - exp.failure_cdf(tmin)\n",
    "# print('Simulated data (Exponential):', P)"
   ]
  },
  {
   "cell_type": "markdown",
   "metadata": {},
   "source": [
    "## Mean time to repair (suppose exponential)"
   ]
  },
  {
   "cell_type": "code",
   "execution_count": 60,
   "metadata": {},
   "outputs": [
    {
     "data": {
      "text/plain": [
       "817"
      ]
     },
     "execution_count": 60,
     "metadata": {},
     "output_type": "execute_result"
    }
   ],
   "source": [
    "# from probdist import duration_of_downtime\n",
    "# downtimes = (df.Type == 'DownTime') & (df.ReasonId.isin(reasons_considered))\n",
    "# dtduration = duration_of_downtime(list(df.Duration / 3600), list(downtimes))\n",
    "len(downtime)"
   ]
  },
  {
   "cell_type": "code",
   "execution_count": 61,
   "metadata": {},
   "outputs": [],
   "source": [
    "#Filter the duration\n",
    "# dtmaxt = np.percentile(np.array(downtime), dtcutoff_perc)\n",
    "# dtmint = 0\n",
    "# downtime = downtime[downtime.between(mint, maxt)]"
   ]
  },
  {
   "cell_type": "code",
   "execution_count": 62,
   "metadata": {},
   "outputs": [],
   "source": [
    "# # mean hourly failure rate (exponential)\n",
    "# MLE = len(dtduration)/np.sum(dtduration)\n",
    "# lambd = MLE\n",
    "# print('Lambda:', lambd)\n",
    "# #Mean time of a repair\n",
    "# MTR = np.sum(dtduration)/len(dtduration)\n",
    "# print('Mean time to repair: {:.3} hours'.format(MTR))"
   ]
  },
  {
   "cell_type": "code",
   "execution_count": 63,
   "metadata": {},
   "outputs": [],
   "source": [
    "#dtduration.apply(np.log)"
   ]
  },
  {
   "cell_type": "code",
   "execution_count": 64,
   "metadata": {},
   "outputs": [
    {
     "name": "stdout",
     "output_type": "stream",
     "text": [
      "Mean Time (practical): 0.6701931184550526\n"
     ]
    }
   ],
   "source": [
    "# Mean time to repair (reality)\n",
    "MTTR_pract = np.mean(downtime)\n",
    "print('Mean Time (practical):', MTTR_pract)"
   ]
  },
  {
   "cell_type": "markdown",
   "metadata": {},
   "source": [
    "## Suppose lognormal"
   ]
  },
  {
   "cell_type": "code",
   "execution_count": 65,
   "metadata": {},
   "outputs": [
    {
     "data": {
      "text/plain": [
       "Lognormal: sigma 1.3110114605794305, mu -1.8274089111269942"
      ]
     },
     "execution_count": 65,
     "metadata": {},
     "output_type": "execute_result"
    }
   ],
   "source": [
    "from probdist import Lognormal\n",
    "# logn = Lognormal.from_durations(dtduration)\n",
    "# logn\n",
    "from lifelines import LogNormalFitter\n",
    "lnf = LogNormalFitter()\n",
    "lnf.fit(downtime, obs_down)\n",
    "logn = Lognormal(lnf.sigma_, lnf.mu_)\n",
    "logn"
   ]
  },
  {
   "cell_type": "code",
   "execution_count": 66,
   "metadata": {},
   "outputs": [],
   "source": [
    "#http://reliawiki.org/index.php/The_Lognormal_Distribution\n",
    "#from scipy.stats import lognorm\n",
    "#param = lognorm.fit(dtduration, floc=0)\n",
    "#param\n",
    "#sigma = param[0]\n",
    "#mu = np.log(param[2])\n",
    "#print('Sigma: {}, Mu: {}'.format(sigma, mu))\n",
    "#param"
   ]
  },
  {
   "cell_type": "code",
   "execution_count": null,
   "metadata": {},
   "outputs": [],
   "source": []
  },
  {
   "cell_type": "code",
   "execution_count": 67,
   "metadata": {},
   "outputs": [
    {
     "name": "stdout",
     "output_type": "stream",
     "text": [
      "Mean Time (theoretical): 0.37982928156749496\n"
     ]
    }
   ],
   "source": [
    "# Mean time to repair (model)\n",
    "#MTTR = np.exp(logn.mu + 1/2 * logn.sigma**2)\n",
    "MTTR = logn.mean_time()\n",
    "MTTR\n",
    "print('Mean Time (theoretical):', MTTR)"
   ]
  },
  {
   "cell_type": "code",
   "execution_count": 68,
   "metadata": {},
   "outputs": [
    {
     "data": {
      "text/plain": [
       "38.98777777777778"
      ]
     },
     "execution_count": 68,
     "metadata": {},
     "output_type": "execute_result"
    }
   ],
   "source": [
    "downtime.max()"
   ]
  },
  {
   "cell_type": "code",
   "execution_count": null,
   "metadata": {},
   "outputs": [],
   "source": []
  },
  {
   "cell_type": "code",
   "execution_count": 69,
   "metadata": {},
   "outputs": [
    {
     "data": {
      "text/plain": [
       "[]"
      ]
     },
     "execution_count": 69,
     "metadata": {},
     "output_type": "execute_result"
    },
    {
     "data": {
      "image/png": "[encoded data removed]",
      "text/plain": [
       "<matplotlib.figure.Figure at 0x234042cceb8>"
      ]
     },
     "metadata": {},
     "output_type": "display_data"
    }
   ],
   "source": [
    "dt_hist, dtran = make_hist_frame(downtime, obs_down, numbins=numbins, range=(downtime.min(), downtime.max()), return_bins=True)\n",
    "dtnormhist = dt_hist['Failures']/len(downtime)\n",
    "dtc_fail = dt_hist['FailCDF']\n",
    "plt.figure(figsize=(10,5))\n",
    "wdt = dtran[1]-dtran[0]\n",
    "plt.bar(dtran[:-1]+wdt/2, dtnormhist, width=wdt, edgecolor='k')\n",
    "plt.bar(dtran[:-1]+wdt/2, dtc_fail, width=wdt, alpha=0.1, edgecolor='k', yerr=dt_hist['Std']**(0.5))\n",
    "dtt = np.linspace(downtime.min(), downtime.max(), 100)\n",
    "plt.plot(dtt, logn.failure_cdf(dtt), 'r', label= r'$\\mu$: {:.3}, $\\sigma$: {:.3}'.format(logn.mu, logn.sigma))\n",
    "plt.title(r\"Repair function(t)\")\n",
    "plt.xlabel('Time between failures [hours]')\n",
    "plt.legend()\n",
    "#plt.savefig('temp3.png', dpi=300, layout='tight')\n",
    "plt.plot()"
   ]
  },
  {
   "cell_type": "code",
   "execution_count": 70,
   "metadata": {},
   "outputs": [],
   "source": [
    "# totalvariance = 0\n",
    "# for i in range(len(hist)):\n",
    "#     exprate = logn.failure_cdf(bin_edges[i+1]) - logn.failure_cdf(bin_edges[i])\n",
    "#     realrate = normhist[i]\n",
    "#     #print(exprate, realrate)\n",
    "#     var = (exprate - realrate)**2\n",
    "#     totalvariance += var\n",
    "# totalvariance = totalvariance / len(hist)\n",
    "# totalvariance"
   ]
  },
  {
   "cell_type": "code",
   "execution_count": 71,
   "metadata": {},
   "outputs": [
    {
     "data": {
      "image/png": "[encoded data removed]",
      "text/plain": [
       "<matplotlib.figure.Figure at 0x234045dd048>"
      ]
     },
     "metadata": {},
     "output_type": "display_data"
    }
   ],
   "source": [
    "plt.subplot(2,1,1)\n",
    "plt.bar(dtran[:-1]+wdt/2, dt_hist['FailPDF'] , width=wdt, edgecolor='k')\n",
    "plt.plot(dtt , logn.failure_pdf(dtt), 'k')\n",
    "plt.title('Failure probability density function')\n",
    "plt.ylabel('f(t)')\n",
    "\n",
    "plt.subplot(2,1,2)\n",
    "plt.bar(dtran[:-1]+wdt/2, dt_hist['Hazard'] , width=wdt, edgecolor='k')\n",
    "\n",
    "plt.plot(dtt , logn.hazard_pdf(dtt), 'k')\n",
    "plt.title('Hazard rate density function')\n",
    "plt.ylabel('h(t)')\n",
    "plt.tight_layout()\n",
    "#plt.savefig('temp6.png', dpi=300, bbox_inches='tight')\n",
    "plt.show()"
   ]
  },
  {
   "cell_type": "code",
   "execution_count": 72,
   "metadata": {},
   "outputs": [],
   "source": [
    "#value, ddof = chi_squared_test(dtduration, logn)\n",
    "#chi2.cdf(value, ddof)\n",
    "#print(value, ddof)"
   ]
  },
  {
   "cell_type": "code",
   "execution_count": 73,
   "metadata": {},
   "outputs": [],
   "source": [
    "#from scipy.stats import chisquare\n",
    "#dtexp_list = []\n",
    "#nsamples = len(dtduration)\n",
    "#for i in range(len(dthist)):\n",
    "#    exprate = (logn.failure_cdf(dtbin_edges[i+1]) - logn.failure_cdf(dtbin_edges[i])) * nsamples\n",
    "#    dtexp_list.append(exprate)\n",
    "##print(exp_list)\n",
    "##print(hist)\n",
    "#chisquare(dthist, dtexp_list, ddof=1)"
   ]
  },
  {
   "cell_type": "markdown",
   "metadata": {},
   "source": [
    "# Modeling a failure (Monte Carlo simulation)"
   ]
  },
  {
   "cell_type": "code",
   "execution_count": 74,
   "metadata": {},
   "outputs": [],
   "source": [
    "if dist == 'exp':\n",
    "    print(exp.generate_failure_time())"
   ]
  },
  {
   "cell_type": "code",
   "execution_count": 75,
   "metadata": {},
   "outputs": [
    {
     "name": "stdout",
     "output_type": "stream",
     "text": [
      "6.869726542351361\n"
     ]
    }
   ],
   "source": [
    "if dist == 'weibull':\n",
    "    print(weib.generate_failure_time())"
   ]
  },
  {
   "cell_type": "code",
   "execution_count": 76,
   "metadata": {},
   "outputs": [
    {
     "data": {
      "text/plain": [
       "0.1720687388739128"
      ]
     },
     "execution_count": 76,
     "metadata": {},
     "output_type": "execute_result"
    }
   ],
   "source": [
    "logn.generate_failure_time()"
   ]
  },
  {
   "cell_type": "markdown",
   "metadata": {},
   "source": [
    "## Availability"
   ]
  },
  {
   "cell_type": "code",
   "execution_count": 77,
   "metadata": {},
   "outputs": [
    {
     "name": "stdout",
     "output_type": "stream",
     "text": [
      "MTBF: 14.04404903162521 MTTR: 0.37982928156749496\n"
     ]
    }
   ],
   "source": [
    "MTBF = weib.mean_time() # mean time to failure\n",
    "MTTR = logn.mean_time() # mean time to repair\n",
    "print('MTBF:', MTBF, 'MTTR:', MTTR)"
   ]
  },
  {
   "cell_type": "code",
   "execution_count": 78,
   "metadata": {},
   "outputs": [
    {
     "data": {
      "text/plain": [
       "0.9736666329734571"
      ]
     },
     "execution_count": 78,
     "metadata": {},
     "output_type": "execute_result"
    }
   ],
   "source": [
    "MTBF/(MTTR + MTBF) # inherent availability"
   ]
  },
  {
   "cell_type": "code",
   "execution_count": 79,
   "metadata": {},
   "outputs": [
    {
     "data": {
      "text/plain": [
       "0.9495673765063736"
      ]
     },
     "execution_count": 79,
     "metadata": {},
     "output_type": "execute_result"
    }
   ],
   "source": [
    "# #Practical availability\n",
    "MTBF_pract / (MTTR_pract + MTBF_pract)"
   ]
  },
  {
   "cell_type": "code",
   "execution_count": 80,
   "metadata": {},
   "outputs": [],
   "source": [
    "# Other way to calculate this\n",
    "#np.sum(duration)/ (np.sum(dtduration)+ np.sum(duration))"
   ]
  },
  {
   "cell_type": "code",
   "execution_count": null,
   "metadata": {},
   "outputs": [],
   "source": []
  },
  {
   "cell_type": "code",
   "execution_count": 81,
   "metadata": {},
   "outputs": [
    {
     "data": {
      "text/plain": [
       "2.8215098127457514"
      ]
     },
     "execution_count": 81,
     "metadata": {},
     "output_type": "execute_result"
    }
   ],
   "source": [
    "import scipy.integrate as integrate\n",
    "integrate.quad(weib.reliability_cdf, 0, 5)[0]"
   ]
  },
  {
   "cell_type": "code",
   "execution_count": null,
   "metadata": {},
   "outputs": [],
   "source": []
  },
  {
   "cell_type": "code",
   "execution_count": 82,
   "metadata": {},
   "outputs": [
    {
     "name": "stdout",
     "output_type": "stream",
     "text": [
      "Optimization terminated successfully.\n",
      "         Current function value: 13.614010\n",
      "         Iterations: 32\n",
      "         Function evaluations: 64\n",
      "Time between planned maintenance: 136 hours = less then 6 days\n"
     ]
    },
    {
     "data": {
      "text/plain": [
       "(-1.3868149568148134, 20.802224352222197)"
      ]
     },
     "execution_count": 82,
     "metadata": {},
     "output_type": "execute_result"
    },
    {
     "data": {
      "image/png": "[encoded data removed]",
      "text/plain": [
       "<matplotlib.figure.Figure at 0x2340577d828>"
      ]
     },
     "metadata": {},
     "output_type": "display_data"
    }
   ],
   "source": [
    "from probdist import total_cost_maintenance, pm_recommend\n",
    "import scipy\n",
    "cp = 100\n",
    "cu = 200\n",
    "\n",
    "\n",
    "minimum = pm_recommend(weib, cp, cu)\n",
    "PM = int(np.ceil(minimum))\n",
    "print('Time between planned maintenance:', PM, 'hours = less then', int(np.ceil(PM / 24)), 'days')\n",
    "plt.plot(minimum, total_cost_maintenance(minimum, weib, cp, cu), 'o')\n",
    "t_plot = np.linspace(0, minimum * 2, 50)\n",
    "total, prev, unexp = total_cost_maintenance(t_plot, weib, cp, cu, True)\n",
    "plt.plot(t_plot, total, label='total cost')\n",
    "plt.plot(t_plot, prev, label='preventive')\n",
    "plt.plot(t_plot, unexp, label='unexpected')\n",
    "plt.legend()\n",
    "plt.ylabel('Cost per hour')\n",
    "plt.xlabel(f'Suggested time between planned maintenance: {PM} hours')\n",
    "plt.ylim(bottom=-total[-1]*0.1, top=total[-1]*1.5)\n",
    "#plt.xlim(left=0, right= minimum * 2 + 10)"
   ]
  },
  {
   "cell_type": "code",
   "execution_count": 83,
   "metadata": {},
   "outputs": [
    {
     "name": "stdout",
     "output_type": "stream",
     "text": [
      "Optimization terminated successfully.\n",
      "         Current function value: 13.614010\n",
      "         Iterations: 32\n",
      "         Function evaluations: 64\n",
      "Preventive Maintenance recommended every 136 hours\n",
      "Hourly failure rate: \n",
      "[3.333e-01 9.888e-02 6.519e-02 4.881e-02 3.888e-02 3.216e-02 2.729e-02\n",
      " 2.359e-02 2.068e-02 1.833e-02 1.641e-02 1.479e-02 1.342e-02 1.225e-02\n",
      " 1.123e-02 1.034e-02 9.557e-03 8.863e-03 8.244e-03 7.689e-03 7.189e-03\n",
      " 6.737e-03 6.326e-03 5.952e-03 5.610e-03 5.297e-03 5.009e-03 4.743e-03\n",
      " 4.497e-03 4.270e-03 4.058e-03 3.862e-03 3.679e-03 3.508e-03 3.349e-03\n",
      " 3.199e-03 3.059e-03 2.927e-03 2.803e-03 2.687e-03 2.577e-03 2.473e-03\n",
      " 2.375e-03 2.282e-03 2.195e-03 2.112e-03 2.033e-03 1.958e-03 1.887e-03\n",
      " 1.819e-03 1.755e-03 1.693e-03 1.635e-03 1.579e-03 1.526e-03 1.475e-03\n",
      " 1.427e-03 1.380e-03 1.336e-03 1.294e-03 1.253e-03 1.214e-03 1.176e-03\n",
      " 1.141e-03 1.106e-03 1.073e-03 1.041e-03 1.011e-03 9.813e-04 9.531e-04\n",
      " 9.259e-04 8.997e-04 8.745e-04 8.502e-04 8.268e-04 8.042e-04 7.824e-04\n",
      " 7.614e-04 7.411e-04 7.215e-04 7.026e-04 6.843e-04 6.666e-04 6.495e-04\n",
      " 6.330e-04 6.170e-04 6.015e-04 5.866e-04 5.721e-04 5.580e-04 5.444e-04\n",
      " 5.313e-04 5.185e-04 5.061e-04 4.941e-04 4.825e-04 4.712e-04 4.602e-04\n",
      " 4.496e-04 4.393e-04 4.292e-04 4.195e-04 4.100e-04 4.008e-04 3.919e-04\n",
      " 3.832e-04 3.748e-04 3.666e-04 3.586e-04 3.509e-04 3.433e-04 3.360e-04\n",
      " 3.288e-04 3.219e-04 3.151e-04 3.085e-04 3.021e-04 2.958e-04 2.897e-04\n",
      " 2.838e-04 2.780e-04 2.723e-04 2.668e-04 2.615e-04 2.563e-04 2.512e-04\n",
      " 2.462e-04 2.413e-04 2.366e-04 2.320e-04 2.275e-04 2.231e-04 2.188e-04\n",
      " 2.146e-04 2.105e-04 2.065e-04]\n"
     ]
    },
    {
     "data": {
      "text/plain": [
       "0.9865962426350225"
      ]
     },
     "execution_count": 83,
     "metadata": {},
     "output_type": "execute_result"
    }
   ],
   "source": [
    "### Generate data for usage in Model from Ke\n",
    "PM = int(np.ceil(pm_recommend(weib, cp, cu)))\n",
    "print('Preventive Maintenance recommended every {:} hours'.format(PM))\n",
    "t_temp = np.arange(0, np.ceil(PM)+1, 1)\n",
    "hourly_failure_rate = np.array([weib.failure_cdf(te) - weib.failure_cdf(ts) for ts, te in zip(t_temp[:-1], t_temp[1:])])\n",
    "print('Hourly failure rate: \\n{}'.format(np.array2string(hourly_failure_rate, precision=3)))\n",
    "pd.DataFrame(hourly_failure_rate).to_csv('hourlyfailurerate.csv', index=False, header=['Influence'])\n",
    "sum(hourly_failure_rate)"
   ]
  },
  {
   "cell_type": "markdown",
   "metadata": {},
   "source": [
    "## Export all necessary info to XML"
   ]
  },
  {
   "cell_type": "code",
   "execution_count": 84,
   "metadata": {},
   "outputs": [],
   "source": [
    "import xml.etree.ElementTree as ET\n",
    "root = ET.Element(\"failure-info\")\n",
    "files = ET.SubElement(root, \"files\")\n",
    "inputfile = ET.SubElement(files, \"inputfile\")\n",
    "inputfile.text = filename\n",
    "fail_dist = ET.SubElement(root, \"fail_dist\")\n",
    "fail_dist.text = dist\n",
    "if dist == \"weibull\":\n",
    "    fail_dist.set(\"lambda\", str(wf.lambda_))\n",
    "    fail_dist.set(\"rho\", str(wf.rho_))\n",
    "elif dist == \"exp\":\n",
    "    fail_dist.set(\"expo\", str(exp.lambda_))\n",
    "else:\n",
    "    raise NameError(\"No distribuion found\")\n",
    "repair_dist = ET.SubElement(root, \"repair_dist\")\n",
    "repair_dist.text = \"lognormal\"\n",
    "repair_dist.set(\"sigma\", str(lnf.sigma_))\n",
    "repair_dist.set(\"mu\", str(lnf.mu_))\n",
    "repair_dist.set(\"mean\", str(MTTR_pract))\n",
    "maint_time = ET.SubElement(root, \"maintenance_time\")\n",
    "maint_time.text = str(PM)\n",
    "repair_time = ET.SubElement(root, \"repair_time\")\n",
    "repair_time.text = str(PM/50)\n",
    "tree = ET.ElementTree(root)\n",
    "tree.write(filename.split('.')[0] + \"_outputfile.xml\")"
   ]
  },
  {
   "cell_type": "code",
   "execution_count": 85,
   "metadata": {},
   "outputs": [
    {
     "data": {
      "text/plain": [
       "136"
      ]
     },
     "execution_count": 85,
     "metadata": {},
     "output_type": "execute_result"
    }
   ],
   "source": [
    "PM"
   ]
  },
  {
   "cell_type": "code",
   "execution_count": null,
   "metadata": {},
   "outputs": [],
   "source": []
  },
  {
   "cell_type": "code",
   "execution_count": null,
   "metadata": {},
   "outputs": [],
   "source": []
  }
 ],
 "metadata": {
  "kernelspec": {
   "display_name": "Python 3",
   "language": "python",
   "name": "python3"
  },
  "language_info": {
   "codemirror_mode": {
    "name": "ipython",
    "version": 3
   },
   "file_extension": ".py",
   "mimetype": "text/x-python",
   "name": "python",
   "nbconvert_exporter": "python",
   "pygments_lexer": "ipython3",
   "version": "3.6.5"
  }
 },
 "nbformat": 4,
 "nbformat_minor": 2
}
